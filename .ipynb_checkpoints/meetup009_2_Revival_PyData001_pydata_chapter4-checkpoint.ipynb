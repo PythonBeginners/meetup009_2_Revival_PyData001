{
 "cells": [
  {
   "cell_type": "markdown",
   "metadata": {
    "collapsed": true
   },
   "source": [
    "# IPython(Notebook) の使い方"
   ]
  },
  {
   "cell_type": "code",
   "execution_count": 1,
   "metadata": {
    "collapsed": false
   },
   "outputs": [
    {
     "data": {
      "text/plain": [
       "4"
      ]
     },
     "execution_count": 1,
     "metadata": {},
     "output_type": "execute_result"
    }
   ],
   "source": [
    "#四則演算\n",
    "2 + 2"
   ]
  },
  {
   "cell_type": "code",
   "execution_count": 2,
   "metadata": {
    "collapsed": false
   },
   "outputs": [
    {
     "data": {
      "text/plain": [
       "'hello world'"
      ]
     },
     "execution_count": 2,
     "metadata": {},
     "output_type": "execute_result"
    }
   ],
   "source": [
    "#文字列の結合\n",
    "'hello ' + \"world\""
   ]
  },
  {
   "cell_type": "code",
   "execution_count": 3,
   "metadata": {
    "collapsed": true
   },
   "outputs": [],
   "source": [
    "#モジュールの読み込み\n",
    "import random"
   ]
  },
  {
   "cell_type": "code",
   "execution_count": 4,
   "metadata": {
    "collapsed": false
   },
   "outputs": [
    {
     "data": {
      "text/plain": [
       "0.8672123939009024"
      ]
     },
     "execution_count": 4,
     "metadata": {},
     "output_type": "execute_result"
    }
   ],
   "source": [
    "#何回か実行してみよう！\n",
    "random.random()"
   ]
  },
  {
   "cell_type": "markdown",
   "metadata": {
    "collapsed": true
   },
   "source": [
    "# OS非依存の便利なMagic Functions"
   ]
  },
  {
   "cell_type": "code",
   "execution_count": 5,
   "metadata": {
    "collapsed": false
   },
   "outputs": [
    {
     "data": {
      "text/plain": [
       "'/Users/t.nakazawa/Documents/git/meetup009_2_Revival_PyData001'"
      ]
     },
     "execution_count": 5,
     "metadata": {},
     "output_type": "execute_result"
    }
   ],
   "source": [
    "#何が出てきました？\n",
    "%pwd"
   ]
  },
  {
   "cell_type": "code",
   "execution_count": 6,
   "metadata": {
    "collapsed": false
   },
   "outputs": [
    {
     "name": "stdout",
     "output_type": "stream",
     "text": [
      "README.md\r\n",
      "meetup009_2_Revival_PyData001_matplotlib_sample.ipynb\r\n",
      "meetup009_2_Revival_PyData001_opendata.ipynb\r\n",
      "meetup009_2_Revival_PyData001_pandas_sample.ipynb\r\n",
      "meetup009_2_Revival_PyData001_pydata_chapter4.ipynb\r\n",
      "sample.csv\r\n",
      "sample.json\r\n",
      "sample2.csv\r\n"
     ]
    }
   ],
   "source": [
    "#シェルコマンドも使える\n",
    "!ls"
   ]
  },
  {
   "cell_type": "code",
   "execution_count": 7,
   "metadata": {
    "collapsed": false
   },
   "outputs": [
    {
     "data": {
      "text/plain": [
       "{'Apple_PubSub_Socket_Render': '/private/tmp/com.apple.launchd.nGEWqDynUe/Render',\n",
       " 'CLICOLOR': '1',\n",
       " 'DISPLAY': '/private/tmp/com.apple.launchd.UnEOwOykbW/org.macosforge.xquartz:0',\n",
       " 'GIT_PAGER': 'cat',\n",
       " 'HOME': '/Users/t.nakazawa',\n",
       " 'INFOPATH': '/sw/share/info:/sw/info:/usr/share/info',\n",
       " 'JPY_PARENT_PID': '20517',\n",
       " 'LANG': 'ja_JP.UTF-8',\n",
       " 'LOGNAME': 't.nakazawa',\n",
       " 'MANPATH': '/sw/share/man/ja:/sw/share/man:/Users/t.nakazawa/anaconda/share/man:/usr/local/share/man:/usr/share/man:/opt/X11/share/man:/Applications/Xcode.app/Contents/Developer/usr/share/man:/Applications/Xcode.app/Contents/Developer/Toolchains/XcodeDefault.xctoolchain/usr/share/man:/sw/lib/perl5/5.18.2/man',\n",
       " 'MPLBACKEND': 'module://ipykernel.pylab.backend_inline',\n",
       " 'OLDPWD': '/Users/t.nakazawa/Documents/git',\n",
       " 'PAGER': 'cat',\n",
       " 'PATH': '/Users/t.nakazawa/anaconda/bin:/sw/bin:/sw/sbin:/Users/t.nakazawa/anaconda/bin:/usr/local/bin:/usr/bin:/bin:/usr/sbin:/sbin:/opt/X11/bin',\n",
       " 'PERL5LIB': '/sw/lib/perl5:/sw/lib/perl5/darwin',\n",
       " 'PWD': '/Users/t.nakazawa/Documents/git/meetup009_2_Revival_PyData001',\n",
       " 'SHELL': '/bin/bash',\n",
       " 'SHLVL': '1',\n",
       " 'SSH_AUTH_SOCK': '/private/tmp/com.apple.launchd.4NOeLgZKOk/Listeners',\n",
       " 'TERM': 'xterm-color',\n",
       " 'TERM_PROGRAM': 'Apple_Terminal',\n",
       " 'TERM_PROGRAM_VERSION': '388.1',\n",
       " 'TERM_SESSION_ID': '24BEAB71-A562-4CE4-98AE-54089A0B6098',\n",
       " 'TMPDIR': '/var/folders/lp/gfs0mx6d6_58yhwv076b7_18fsxv42/T/',\n",
       " 'USER': 't.nakazawa',\n",
       " 'XPC_FLAGS': '0x0',\n",
       " 'XPC_SERVICE_NAME': '0',\n",
       " '_': '/Users/t.nakazawa/anaconda/bin/jupyter',\n",
       " '__CF_USER_TEXT_ENCODING': '0x1D9EEC82:0x1:0xE'}"
      ]
     },
     "execution_count": 7,
     "metadata": {},
     "output_type": "execute_result"
    }
   ],
   "source": [
    "#環境変数一覧\n",
    "%env"
   ]
  },
  {
   "cell_type": "code",
   "execution_count": 8,
   "metadata": {
    "collapsed": true
   },
   "outputs": [],
   "source": [
    "#Magic Functionsがわからなくなったらこれ！\n",
    "%quickref"
   ]
  },
  {
   "cell_type": "code",
   "execution_count": 9,
   "metadata": {
    "collapsed": false
   },
   "outputs": [
    {
     "name": "stdout",
     "output_type": "stream",
     "text": [
      "/bin/sh: dir: command not found\r\n"
     ]
    }
   ],
   "source": [
    "#環境によっては動かない(エラーメッセージが出る)かも\n",
    "!dir"
   ]
  },
  {
   "cell_type": "code",
   "execution_count": 10,
   "metadata": {
    "collapsed": false
   },
   "outputs": [
    {
     "name": "stdout",
     "output_type": "stream",
     "text": [
      "total 96\r\n",
      "drwxr-xr-x  12 t.nakazawa  222086365    408  4 30 15:40 \u001b[34m.\u001b[m\u001b[m\r\n",
      "drwxr-xr-x  15 t.nakazawa  222086365    510  5  2 17:11 \u001b[34m..\u001b[m\u001b[m\r\n",
      "drwxr-xr-x  15 t.nakazawa  222086365    510  4 30 15:36 \u001b[34m.git\u001b[m\u001b[m\r\n",
      "drwxr-xr-x   5 t.nakazawa  222086365    170  4 30 15:14 \u001b[34m.ipynb_checkpoints\u001b[m\u001b[m\r\n",
      "-rw-r--r--   1 t.nakazawa  222086365    857  4 30 15:56 README.md\r\n",
      "-rw-r--r--   1 t.nakazawa  222086365   2376  4 30 14:27 meetup009_2_Revival_PyData001_matplotlib_sample.ipynb\r\n",
      "-rw-r--r--   1 t.nakazawa  222086365   6031  4 30 15:14 meetup009_2_Revival_PyData001_opendata.ipynb\r\n",
      "-rw-r--r--   1 t.nakazawa  222086365   5026  4 30 15:07 meetup009_2_Revival_PyData001_pandas_sample.ipynb\r\n",
      "-rw-r--r--   1 t.nakazawa  222086365  11526  4 30 15:13 meetup009_2_Revival_PyData001_pydata_chapter4.ipynb\r\n",
      "-rw-r--r--   1 t.nakazawa  222086365     71  4 16 20:46 sample.csv\r\n",
      "-rw-r--r--   1 t.nakazawa  222086365    149  4 30 15:40 sample.json\r\n",
      "-rw-r--r--   1 t.nakazawa  222086365    147  4 16 20:46 sample2.csv\r\n"
     ]
    }
   ],
   "source": [
    "#OS依存のコードを書く時は注意が必要\n",
    "!ls -la"
   ]
  },
  {
   "cell_type": "markdown",
   "metadata": {
    "collapsed": true
   },
   "source": [
    "# N次元配列操作ライブラリ numpyの基礎"
   ]
  },
  {
   "cell_type": "code",
   "execution_count": 11,
   "metadata": {
    "collapsed": true
   },
   "outputs": [],
   "source": [
    "#numpyのインポート\n",
    "import numpy\n",
    "#import numpy as npと書く人もいる"
   ]
  },
  {
   "cell_type": "code",
   "execution_count": 12,
   "metadata": {
    "collapsed": false
   },
   "outputs": [
    {
     "data": {
      "text/plain": [
       "array([1, 2, 3])"
      ]
     },
     "execution_count": 12,
     "metadata": {},
     "output_type": "execute_result"
    }
   ],
   "source": [
    "#array（配列の生成）\n",
    "numpy.array([1,2,3])\n",
    "#鍵カッコを忘れずに！！\n",
    "#numpy.array(1,2,3)"
   ]
  },
  {
   "cell_type": "code",
   "execution_count": 13,
   "metadata": {
    "collapsed": false
   },
   "outputs": [],
   "source": [
    "#事前の型名指定等はいらない\n",
    "a = numpy.array([[1, 3], [2,4]])"
   ]
  },
  {
   "cell_type": "code",
   "execution_count": 14,
   "metadata": {
    "collapsed": false
   },
   "outputs": [
    {
     "data": {
      "text/plain": [
       "array([[1, 3],\n",
       "       [2, 4]])"
      ]
     },
     "execution_count": 14,
     "metadata": {},
     "output_type": "execute_result"
    }
   ],
   "source": [
    "a"
   ]
  },
  {
   "cell_type": "code",
   "execution_count": 15,
   "metadata": {
    "collapsed": false
   },
   "outputs": [
    {
     "name": "stdout",
     "output_type": "stream",
     "text": [
      "3\n",
      "[1 3]\n"
     ]
    }
   ],
   "source": [
    "#配列要素の抽出\n",
    "print(a[0][1])\n",
    "print(a[0])"
   ]
  },
  {
   "cell_type": "code",
   "execution_count": 16,
   "metadata": {
    "collapsed": false
   },
   "outputs": [
    {
     "name": "stdout",
     "output_type": "stream",
     "text": [
      "x= [[1 2]\n",
      " [3 4]]\n",
      "y= [[5 6]\n",
      " [7 8]]\n"
     ]
    }
   ],
   "source": [
    "x = numpy.array([[1,2], [3,4]])\n",
    "y = numpy.array([[5,6], [7,8]])\n",
    "print(\"x=\",x)\n",
    "print(\"y=\",y)"
   ]
  },
  {
   "cell_type": "code",
   "execution_count": 17,
   "metadata": {
    "collapsed": false
   },
   "outputs": [
    {
     "data": {
      "text/plain": [
       "array([[ 6,  8],\n",
       "       [10, 12]])"
      ]
     },
     "execution_count": 17,
     "metadata": {},
     "output_type": "execute_result"
    }
   ],
   "source": [
    "#配列要素同士で四則演算もできる\n",
    "x + y"
   ]
  },
  {
   "cell_type": "markdown",
   "metadata": {
    "collapsed": true
   },
   "source": [
    "## numpyで標準偏差"
   ]
  },
  {
   "cell_type": "code",
   "execution_count": 18,
   "metadata": {
    "collapsed": false
   },
   "outputs": [
    {
     "data": {
      "text/plain": [
       "array([80, 70, 65, 82, 90])"
      ]
     },
     "execution_count": 18,
     "metadata": {},
     "output_type": "execute_result"
    }
   ],
   "source": [
    "#配列を定義\n",
    "score = numpy.array([80, 70, 65, 82, 90])\n",
    "score"
   ]
  },
  {
   "cell_type": "code",
   "execution_count": 19,
   "metadata": {
    "collapsed": false
   },
   "outputs": [
    {
     "data": {
      "text/plain": [
       "8.8904443083571465"
      ]
     },
     "execution_count": 19,
     "metadata": {},
     "output_type": "execute_result"
    }
   ],
   "source": [
    "#standard deviation（標準偏差）の略？\n",
    "numpy.std(score)"
   ]
  },
  {
   "cell_type": "code",
   "execution_count": 20,
   "metadata": {
    "collapsed": false
   },
   "outputs": [
    {
     "name": "stdout",
     "output_type": "stream",
     "text": [
      "標準偏差 12.5356634106\n",
      "平均 80.0\n"
     ]
    }
   ],
   "source": [
    "#scoreの中身を変えて、標準偏差を見てみよう\n",
    "score = numpy.array([95, 74, 67, 72, 99, 87, 66])\n",
    "print(\"標準偏差\",numpy.std(score))\n",
    "print(\"平均\",numpy.sum(score)/len(score))"
   ]
  },
  {
   "cell_type": "code",
   "execution_count": 21,
   "metadata": {
    "collapsed": false
   },
   "outputs": [
    {
     "name": "stdout",
     "output_type": "stream",
     "text": [
      "標準偏差 0.0\n",
      "平均 80.0\n"
     ]
    }
   ],
   "source": [
    "score = numpy.array([80, 80, 80, 80, 80, 80, 80])\n",
    "print(\"標準偏差\",numpy.std(score))\n",
    "print(\"平均\",numpy.sum(score)/len(score))"
   ]
  },
  {
   "cell_type": "markdown",
   "metadata": {
    "collapsed": true
   },
   "source": [
    "## 科学計算ライブラリ scipy"
   ]
  },
  {
   "cell_type": "code",
   "execution_count": 22,
   "metadata": {
    "collapsed": false
   },
   "outputs": [],
   "source": [
    "#scipy(モジュール)に含まれるdistanceオブジェクトを指定\n",
    "from scipy.spatial import distance"
   ]
  },
  {
   "cell_type": "code",
   "execution_count": 23,
   "metadata": {
    "collapsed": false
   },
   "outputs": [],
   "source": [
    "x = [1,2,3]\n",
    "y = [1,1,2]"
   ]
  },
  {
   "cell_type": "code",
   "execution_count": 24,
   "metadata": {
    "collapsed": false
   },
   "outputs": [
    {
     "data": {
      "text/plain": [
       "1.4142135623730951"
      ]
     },
     "execution_count": 24,
     "metadata": {},
     "output_type": "execute_result"
    }
   ],
   "source": [
    "distance.euclidean(x, y)"
   ]
  },
  {
   "cell_type": "markdown",
   "metadata": {},
   "source": [
    "ちなみに"
   ]
  },
  {
   "cell_type": "code",
   "execution_count": 25,
   "metadata": {
    "collapsed": true
   },
   "outputs": [],
   "source": [
    "#↓以降は[Kernel]→[Restart & Clear Output]を押してから\n",
    "from scipy import spatial"
   ]
  },
  {
   "cell_type": "code",
   "execution_count": 26,
   "metadata": {
    "collapsed": false
   },
   "outputs": [
    {
     "data": {
      "text/plain": [
       "2.0"
      ]
     },
     "execution_count": 26,
     "metadata": {},
     "output_type": "execute_result"
    }
   ],
   "source": [
    "#これはエラーになる\n",
    "distance.euclidean(1, 3)"
   ]
  },
  {
   "cell_type": "code",
   "execution_count": 27,
   "metadata": {
    "collapsed": false
   },
   "outputs": [
    {
     "data": {
      "text/plain": [
       "2.0"
      ]
     },
     "execution_count": 27,
     "metadata": {},
     "output_type": "execute_result"
    }
   ],
   "source": [
    "spatial.distance.euclidean(1,3)"
   ]
  },
  {
   "cell_type": "markdown",
   "metadata": {
    "collapsed": true
   },
   "source": [
    "## 定数"
   ]
  },
  {
   "cell_type": "code",
   "execution_count": 28,
   "metadata": {
    "collapsed": true
   },
   "outputs": [],
   "source": [
    "#constants(定数)わかりやすい！\n",
    "import scipy.constants"
   ]
  },
  {
   "cell_type": "code",
   "execution_count": 29,
   "metadata": {
    "collapsed": false
   },
   "outputs": [
    {
     "data": {
      "text/plain": [
       "3.141592653589793"
      ]
     },
     "execution_count": 29,
     "metadata": {},
     "output_type": "execute_result"
    }
   ],
   "source": [
    "#円周率\n",
    "scipy.constants.pi"
   ]
  },
  {
   "cell_type": "code",
   "execution_count": 30,
   "metadata": {
    "collapsed": false
   },
   "outputs": [
    {
     "data": {
      "text/plain": [
       "9.80665"
      ]
     },
     "execution_count": 30,
     "metadata": {},
     "output_type": "execute_result"
    }
   ],
   "source": [
    "#重力加速度\n",
    "scipy.constants.g"
   ]
  },
  {
   "cell_type": "code",
   "execution_count": 31,
   "metadata": {
    "collapsed": false
   },
   "outputs": [
    {
     "data": {
      "text/plain": [
       "1.618033988749895"
      ]
     },
     "execution_count": 31,
     "metadata": {},
     "output_type": "execute_result"
    }
   ],
   "source": [
    "#黄金比\n",
    "scipy.constants.golden_ratio"
   ]
  },
  {
   "cell_type": "code",
   "execution_count": 32,
   "metadata": {
    "collapsed": false
   },
   "outputs": [],
   "source": [
    "#↓の行末にカーソルを持っていってTABキーを押すと、定数一覧が見れます。\n",
    "#scipy.constants.\n",
    "#もしくはこちらにアクセス→[https://docs.scipy.org/doc/scipy-0.18.1/reference/constants.html]"
   ]
  },
  {
   "cell_type": "markdown",
   "metadata": {
    "collapsed": true
   },
   "source": [
    "## 最近傍探索"
   ]
  },
  {
   "cell_type": "code",
   "execution_count": 33,
   "metadata": {
    "collapsed": true
   },
   "outputs": [],
   "source": [
    "#ここらへんから少しデータ解析っぽい\n",
    "from scipy.spatial import KDTree"
   ]
  },
  {
   "cell_type": "code",
   "execution_count": 34,
   "metadata": {
    "collapsed": true
   },
   "outputs": [],
   "source": [
    "#元になるデータを作成します\n",
    "x, y, z = (1,1,2), (5,3,7), (2,5,1)"
   ]
  },
  {
   "cell_type": "code",
   "execution_count": 35,
   "metadata": {
    "collapsed": true
   },
   "outputs": [],
   "source": [
    "label = ('x', 'y', 'z')"
   ]
  },
  {
   "cell_type": "code",
   "execution_count": 36,
   "metadata": {
    "collapsed": true
   },
   "outputs": [],
   "source": [
    "#KD木を作ります\n",
    "tree = KDTree((x, y, z))"
   ]
  },
  {
   "cell_type": "code",
   "execution_count": 37,
   "metadata": {
    "collapsed": false
   },
   "outputs": [
    {
     "data": {
      "text/plain": [
       "<scipy.spatial.kdtree.KDTree at 0x1148a5128>"
      ]
     },
     "execution_count": 37,
     "metadata": {},
     "output_type": "execute_result"
    }
   ],
   "source": [
    "tree"
   ]
  },
  {
   "cell_type": "code",
   "execution_count": 38,
   "metadata": {
    "collapsed": false
   },
   "outputs": [
    {
     "data": {
      "text/plain": [
       "array([[1, 1, 2],\n",
       "       [5, 3, 7],\n",
       "       [2, 5, 1]])"
      ]
     },
     "execution_count": 38,
     "metadata": {},
     "output_type": "execute_result"
    }
   ],
   "source": [
    "tree.data"
   ]
  },
  {
   "cell_type": "code",
   "execution_count": 39,
   "metadata": {
    "collapsed": true
   },
   "outputs": [],
   "source": [
    "new_data = (4,5,2)"
   ]
  },
  {
   "cell_type": "code",
   "execution_count": 40,
   "metadata": {
    "collapsed": false
   },
   "outputs": [],
   "source": [
    "d, n = tree.query(new_data)"
   ]
  },
  {
   "cell_type": "code",
   "execution_count": 41,
   "metadata": {
    "collapsed": false
   },
   "outputs": [
    {
     "data": {
      "text/plain": [
       "2.2360679774997898"
      ]
     },
     "execution_count": 41,
     "metadata": {},
     "output_type": "execute_result"
    }
   ],
   "source": [
    "d"
   ]
  },
  {
   "cell_type": "code",
   "execution_count": 42,
   "metadata": {
    "collapsed": false
   },
   "outputs": [
    {
     "data": {
      "text/plain": [
       "2"
      ]
     },
     "execution_count": 42,
     "metadata": {},
     "output_type": "execute_result"
    }
   ],
   "source": [
    "n"
   ]
  },
  {
   "cell_type": "code",
   "execution_count": 43,
   "metadata": {
    "collapsed": false
   },
   "outputs": [
    {
     "name": "stdout",
     "output_type": "stream",
     "text": [
      "分類結果はzです\n"
     ]
    }
   ],
   "source": [
    "print(\"分類結果は{0}です\".format(label[n]))"
   ]
  },
  {
   "cell_type": "code",
   "execution_count": 44,
   "metadata": {
    "collapsed": false
   },
   "outputs": [
    {
     "name": "stdout",
     "output_type": "stream",
     "text": [
      "分類結果はzです\n"
     ]
    }
   ],
   "source": [
    "print(\"分類結果は{0}です\".format(label[2]))"
   ]
  },
  {
   "cell_type": "code",
   "execution_count": 45,
   "metadata": {
    "collapsed": false
   },
   "outputs": [
    {
     "name": "stdout",
     "output_type": "stream",
     "text": [
      "距離は2.23606797749979です\n"
     ]
    }
   ],
   "source": [
    "print (\"距離は{0}です\".format(d))"
   ]
  },
  {
   "cell_type": "code",
   "execution_count": null,
   "metadata": {
    "collapsed": true
   },
   "outputs": [],
   "source": []
  },
  {
   "cell_type": "code",
   "execution_count": null,
   "metadata": {
    "collapsed": true
   },
   "outputs": [],
   "source": []
  }
 ],
 "metadata": {
  "kernelspec": {
   "display_name": "Python 3",
   "language": "python",
   "name": "python3"
  },
  "language_info": {
   "codemirror_mode": {
    "name": "ipython",
    "version": 3
   },
   "file_extension": ".py",
   "mimetype": "text/x-python",
   "name": "python",
   "nbconvert_exporter": "python",
   "pygments_lexer": "ipython3",
   "version": "3.6.0"
  }
 },
 "nbformat": 4,
 "nbformat_minor": 0
}
