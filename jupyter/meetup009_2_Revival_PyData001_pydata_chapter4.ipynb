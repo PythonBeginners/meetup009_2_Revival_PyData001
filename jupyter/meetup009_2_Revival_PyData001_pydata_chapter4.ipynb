{
 "cells": [
  {
   "cell_type": "markdown",
   "metadata": {
    "collapsed": true,
    "slideshow": {
     "slide_type": "slide"
    }
   },
   "source": [
    "# IPython(Notebook) の使い方\n"
   ]
  },
  {
   "cell_type": "markdown",
   "metadata": {
    "slideshow": {
     "slide_type": "slide"
    }
   },
   "source": [
    "## アジェンダ\n",
    "### めっちゃ基礎\n",
    "- 四則演算\n",
    "- 文字列操作\n",
    "- モジュールの読み込み\n",
    "\n",
    "### Magic Functionsをいろいろ紹介\n",
    "\n",
    "### numpyの基礎\n",
    "- 配列の生成\n",
    "- 配列要素の抽出\n",
    "- 標準偏差\n",
    "\n",
    "### scipyの基礎\n",
    "- scipyで定義されている定数\n",
    "- 最近傍探索をやってみよう"
   ]
  },
  {
   "cell_type": "markdown",
   "metadata": {
    "slideshow": {
     "slide_type": "slide"
    }
   },
   "source": [
    "## めっちゃ基礎"
   ]
  },
  {
   "cell_type": "code",
   "execution_count": 1,
   "metadata": {
    "slideshow": {
     "slide_type": "fragment"
    }
   },
   "outputs": [
    {
     "data": {
      "text/plain": [
       "4"
      ]
     },
     "execution_count": 1,
     "metadata": {},
     "output_type": "execute_result"
    }
   ],
   "source": [
    "#四則演算\n",
    "2 + 2"
   ]
  },
  {
   "cell_type": "code",
   "execution_count": 2,
   "metadata": {
    "slideshow": {
     "slide_type": "fragment"
    }
   },
   "outputs": [
    {
     "data": {
      "text/plain": [
       "'hello world'"
      ]
     },
     "execution_count": 2,
     "metadata": {},
     "output_type": "execute_result"
    }
   ],
   "source": [
    "#文字列の結合\n",
    "'hello ' + \"world\""
   ]
  },
  {
   "cell_type": "code",
   "execution_count": 3,
   "metadata": {
    "slideshow": {
     "slide_type": "slide"
    }
   },
   "outputs": [],
   "source": [
    "#モジュールの読み込み\n",
    "import random"
   ]
  },
  {
   "cell_type": "code",
   "execution_count": 4,
   "metadata": {
    "slideshow": {
     "slide_type": "fragment"
    }
   },
   "outputs": [
    {
     "data": {
      "text/plain": [
       "0.28302478203577996"
      ]
     },
     "execution_count": 4,
     "metadata": {},
     "output_type": "execute_result"
    }
   ],
   "source": [
    "#何回か実行してみよう！\n",
    "random.random()"
   ]
  },
  {
   "cell_type": "markdown",
   "metadata": {
    "collapsed": true,
    "slideshow": {
     "slide_type": "slide"
    }
   },
   "source": [
    "# OS非依存の便利なMagic Functions"
   ]
  },
  {
   "cell_type": "code",
   "execution_count": 5,
   "metadata": {
    "slideshow": {
     "slide_type": "fragment"
    }
   },
   "outputs": [
    {
     "data": {
      "text/plain": [
       "'/Users/nakazawa/Projects/PythonBeginners/meetup009_2_Revival_PyData001/jupyter'"
      ]
     },
     "execution_count": 5,
     "metadata": {},
     "output_type": "execute_result"
    }
   ],
   "source": [
    "#何が出てきました？\n",
    "%pwd"
   ]
  },
  {
   "cell_type": "code",
   "execution_count": 6,
   "metadata": {
    "slideshow": {
     "slide_type": "fragment"
    }
   },
   "outputs": [
    {
     "name": "stdout",
     "output_type": "stream",
     "text": [
      "Diagram-of-the-KD-tree-structure.png\r\n",
      "KDtree.png\r\n",
      "meetup009_2_Revival_PyData001_matplotlib_sample.ipynb\r\n",
      "meetup009_2_Revival_PyData001_opendata.ipynb\r\n",
      "meetup009_2_Revival_PyData001_pandas_sample.ipynb\r\n",
      "meetup009_2_Revival_PyData001_pydata_chapter4.ipynb\r\n",
      "sample.csv\r\n",
      "sample.json\r\n",
      "sample2.csv\r\n",
      "sample_graph.jpg\r\n"
     ]
    }
   ],
   "source": [
    "#シェルコマンドも使える\n",
    "!ls"
   ]
  },
  {
   "cell_type": "code",
   "execution_count": 7,
   "metadata": {
    "slideshow": {
     "slide_type": "fragment"
    }
   },
   "outputs": [
    {
     "data": {
      "text/plain": [
       "{'TERM_PROGRAM': 'iTerm.app',\n",
       " 'TERM': 'xterm-color',\n",
       " 'SHELL': '/bin/bash',\n",
       " 'TMPDIR': '/var/folders/kl/7wtp58351z3ddpk93bggp8g80000gp/T/',\n",
       " 'CONDA_SHLVL': '2',\n",
       " 'Apple_PubSub_Socket_Render': '/private/tmp/com.apple.launchd.SDDjIyF4xY/Render',\n",
       " 'CONDA_PROMPT_MODIFIER': '(pythonbeginners) ',\n",
       " 'TERM_PROGRAM_VERSION': '3.2.0',\n",
       " 'OLDPWD': '/Users/nakazawa/Projects/PythonBeginners/meetup009_2_Revival_PyData001',\n",
       " 'TERM_SESSION_ID': 'w0t1p0:CC65EE33-A559-437D-903F-C3EAF607F6A2',\n",
       " 'USER': 'nakazawa',\n",
       " 'CONDA_EXE': '/Users/nakazawa/anaconda3/bin/conda',\n",
       " 'SSH_AUTH_SOCK': '/private/tmp/com.apple.launchd.EuGt9fhfA5/Listeners',\n",
       " '__CF_USER_TEXT_ENCODING': '0x0:1:14',\n",
       " 'CONDA_PREFIX_1': '/Users/nakazawa/anaconda3/envs/buckmoon',\n",
       " 'PATH': '/Users/nakazawa/anaconda3/envs/pythonbeginners/bin:/Users/nakazawa/anaconda3/envs/pythonbeginners/bin:/Users/nakazawa/.rbenv/shims:/usr/local/opt/libxml2/bin:/usr/local/opt/libiconv/bin:/usr/local/opt/libxslt/bin:/usr/local/opt/expat/bin:/Users/nakazawa/anaconda3/envs/buckmoon/bin:/Users/nakazawa/anaconda3/bin:/usr/local:/sw2/bin:/usr/local/bin:/usr/bin:/bin:/usr/sbin:/sbin:/opt/X11/bin',\n",
       " 'CONDA_PREFIX': '/Users/nakazawa/anaconda3/envs/pythonbeginners',\n",
       " 'JAVA': '/Library/Java/JavaVirtualMachines/jdk-10.0.1.jdk/Contents/Home/bin',\n",
       " 'PWD': '/Users/nakazawa/Projects/PythonBeginners/meetup009_2_Revival_PyData001/jupyter',\n",
       " 'JAVA_HOME': '/Library/Java/JavaVirtualMachines/jdk-10.0.1.jdk/Contents/Home',\n",
       " 'LANG': 'ja_JP.UTF-8',\n",
       " 'ITERM_PROFILE': 'Default',\n",
       " 'XPC_FLAGS': '0x0',\n",
       " 'XPC_SERVICE_NAME': '0',\n",
       " 'SHLVL': '1',\n",
       " 'HOME': '/Users/nakazawa',\n",
       " 'COLORFGBG': '7;0',\n",
       " 'ITERM_SESSION_ID': 'w0t1p0:CC65EE33-A559-437D-903F-C3EAF607F6A2',\n",
       " 'CONDA_PYTHON_EXE': '/Users/nakazawa/anaconda3/bin/python',\n",
       " 'LOGNAME': 'nakazawa',\n",
       " 'CONDA_DEFAULT_ENV': 'pythonbeginners',\n",
       " 'DISPLAY': '/private/tmp/com.apple.launchd.rwbINSXjZF/org.macosforge.xquartz:0',\n",
       " 'COLORTERM': 'truecolor',\n",
       " '_': '/Users/nakazawa/anaconda3/envs/pythonbeginners/bin/jupyter',\n",
       " 'JPY_PARENT_PID': '50666',\n",
       " 'CLICOLOR': '1',\n",
       " 'PAGER': 'cat',\n",
       " 'GIT_PAGER': 'cat',\n",
       " 'MPLBACKEND': 'module://ipykernel.pylab.backend_inline'}"
      ]
     },
     "execution_count": 7,
     "metadata": {},
     "output_type": "execute_result"
    }
   ],
   "source": [
    "#環境変数一覧\n",
    "%env"
   ]
  },
  {
   "cell_type": "code",
   "execution_count": 8,
   "metadata": {
    "slideshow": {
     "slide_type": "slide"
    }
   },
   "outputs": [],
   "source": [
    "#Magic Functionsがわからなくなったらこれ！\n",
    "%quickref"
   ]
  },
  {
   "cell_type": "code",
   "execution_count": 9,
   "metadata": {
    "slideshow": {
     "slide_type": "fragment"
    }
   },
   "outputs": [
    {
     "name": "stdout",
     "output_type": "stream",
     "text": [
      "/bin/sh: dir: command not found\r\n"
     ]
    }
   ],
   "source": [
    "#環境によっては動かない(エラーメッセージが出る)かも\n",
    "!dir"
   ]
  },
  {
   "cell_type": "code",
   "execution_count": 10,
   "metadata": {
    "slideshow": {
     "slide_type": "fragment"
    }
   },
   "outputs": [
    {
     "name": "stdout",
     "output_type": "stream",
     "text": [
      "total 1480\r\n",
      "drwxr-xr-x  14 nakazawa  staff     448  8 10 15:41 \u001b[34m.\u001b[m\u001b[m\r\n",
      "drwxr-xr-x   7 nakazawa  staff     224  8 10 14:30 \u001b[34m..\u001b[m\u001b[m\r\n",
      "-rw-r--r--@  1 nakazawa  staff    6148  8 10 14:30 .DS_Store\r\n",
      "drwxr-xr-x   6 nakazawa  staff     192  7 18 23:43 \u001b[34m.ipynb_checkpoints\u001b[m\u001b[m\r\n",
      "-rw-r--r--@  1 nakazawa  staff   96358  8 10 15:21 Diagram-of-the-KD-tree-structure.png\r\n",
      "-rw-r--r--@  1 nakazawa  staff   11206  8 10 14:30 KDtree.png\r\n",
      "-rw-r--r--   1 nakazawa  staff  327411  8  9 21:35 meetup009_2_Revival_PyData001_matplotlib_sample.ipynb\r\n",
      "-rw-r--r--   1 nakazawa  staff  135030  7 19 00:35 meetup009_2_Revival_PyData001_opendata.ipynb\r\n",
      "-rw-r--r--   1 nakazawa  staff   16283  7 18 23:43 meetup009_2_Revival_PyData001_pandas_sample.ipynb\r\n",
      "-rw-r--r--   1 nakazawa  staff   99559  8 10 15:41 meetup009_2_Revival_PyData001_pydata_chapter4.ipynb\r\n",
      "-rw-r--r--   1 nakazawa  staff      71  7 18 21:28 sample.csv\r\n",
      "-rw-r--r--   1 nakazawa  staff     149  7 18 23:52 sample.json\r\n",
      "-rw-r--r--   1 nakazawa  staff     147  7 18 21:28 sample2.csv\r\n",
      "-rw-r--r--@  1 nakazawa  staff   41511  7 18 23:17 sample_graph.jpg\r\n"
     ]
    }
   ],
   "source": [
    "#OS依存のコードを書く時は注意が必要\n",
    "!ls -la"
   ]
  },
  {
   "cell_type": "markdown",
   "metadata": {
    "collapsed": true
   },
   "source": [
    "# N次元配列操作ライブラリ numpyの基礎"
   ]
  },
  {
   "cell_type": "code",
   "execution_count": 11,
   "metadata": {},
   "outputs": [],
   "source": [
    "#numpyのインポート\n",
    "import numpy\n",
    "#import numpy as npと書く人もいる"
   ]
  },
  {
   "cell_type": "code",
   "execution_count": 12,
   "metadata": {},
   "outputs": [
    {
     "data": {
      "text/plain": [
       "array([1, 2, 3])"
      ]
     },
     "execution_count": 12,
     "metadata": {},
     "output_type": "execute_result"
    }
   ],
   "source": [
    "#array（配列の生成）\n",
    "numpy.array([1,2,3])\n",
    "#鍵カッコを忘れずに！！\n",
    "#numpy.array(1,2,3)"
   ]
  },
  {
   "cell_type": "code",
   "execution_count": 13,
   "metadata": {},
   "outputs": [],
   "source": [
    "#事前の型名指定等はいらない\n",
    "a = numpy.array([[1, 3], [2,4]])"
   ]
  },
  {
   "cell_type": "code",
   "execution_count": 14,
   "metadata": {},
   "outputs": [
    {
     "data": {
      "text/plain": [
       "array([[1, 3],\n",
       "       [2, 4]])"
      ]
     },
     "execution_count": 14,
     "metadata": {},
     "output_type": "execute_result"
    }
   ],
   "source": [
    "a"
   ]
  },
  {
   "cell_type": "code",
   "execution_count": 15,
   "metadata": {},
   "outputs": [
    {
     "name": "stdout",
     "output_type": "stream",
     "text": [
      "3\n",
      "[1 3]\n"
     ]
    }
   ],
   "source": [
    "#配列要素の抽出\n",
    "print(a[0][1])\n",
    "print(a[0])"
   ]
  },
  {
   "cell_type": "code",
   "execution_count": 16,
   "metadata": {},
   "outputs": [
    {
     "name": "stdout",
     "output_type": "stream",
     "text": [
      "x= [[1 2]\n",
      " [3 4]]\n",
      "y= [[5 6]\n",
      " [7 8]]\n"
     ]
    }
   ],
   "source": [
    "x = numpy.array([[1,2], [3,4]])\n",
    "y = numpy.array([[5,6], [7,8]])\n",
    "print(\"x=\",x)\n",
    "print(\"y=\",y)"
   ]
  },
  {
   "cell_type": "code",
   "execution_count": 17,
   "metadata": {},
   "outputs": [
    {
     "data": {
      "text/plain": [
       "array([[ 6,  8],\n",
       "       [10, 12]])"
      ]
     },
     "execution_count": 17,
     "metadata": {},
     "output_type": "execute_result"
    }
   ],
   "source": [
    "#配列要素同士で四則演算もできる\n",
    "x + y"
   ]
  },
  {
   "cell_type": "markdown",
   "metadata": {
    "collapsed": true
   },
   "source": [
    "## numpyで標準偏差"
   ]
  },
  {
   "cell_type": "code",
   "execution_count": 18,
   "metadata": {},
   "outputs": [
    {
     "data": {
      "text/plain": [
       "array([80, 70, 65, 82, 90])"
      ]
     },
     "execution_count": 18,
     "metadata": {},
     "output_type": "execute_result"
    }
   ],
   "source": [
    "#配列を定義\n",
    "score = numpy.array([80, 70, 65, 82, 90])\n",
    "score"
   ]
  },
  {
   "cell_type": "code",
   "execution_count": 19,
   "metadata": {},
   "outputs": [
    {
     "data": {
      "text/plain": [
       "8.890444308357146"
      ]
     },
     "execution_count": 19,
     "metadata": {},
     "output_type": "execute_result"
    }
   ],
   "source": [
    "#standard deviation（標準偏差）の略？\n",
    "numpy.std(score)"
   ]
  },
  {
   "cell_type": "code",
   "execution_count": 20,
   "metadata": {},
   "outputs": [
    {
     "name": "stdout",
     "output_type": "stream",
     "text": [
      "標準偏差 12.535663410560174\n",
      "平均 80.0\n"
     ]
    }
   ],
   "source": [
    "#scoreの中身を変えて、標準偏差を見てみよう\n",
    "score = numpy.array([95, 74, 67, 72, 99, 87, 66])\n",
    "print(\"標準偏差\",numpy.std(score))\n",
    "print(\"平均\",numpy.sum(score)/len(score))"
   ]
  },
  {
   "cell_type": "code",
   "execution_count": 21,
   "metadata": {},
   "outputs": [
    {
     "name": "stdout",
     "output_type": "stream",
     "text": [
      "標準偏差 0.0\n",
      "平均 80.0\n"
     ]
    }
   ],
   "source": [
    "score = numpy.array([80, 80, 80, 80, 80, 80, 80])\n",
    "print(\"標準偏差\",numpy.std(score))\n",
    "print(\"平均\",numpy.sum(score)/len(score))"
   ]
  },
  {
   "cell_type": "markdown",
   "metadata": {
    "collapsed": true
   },
   "source": [
    "## 科学計算ライブラリ scipy"
   ]
  },
  {
   "cell_type": "code",
   "execution_count": 22,
   "metadata": {},
   "outputs": [],
   "source": [
    "#scipy(モジュール)に含まれるdistanceオブジェクトを指定\n",
    "from scipy.spatial import distance"
   ]
  },
  {
   "cell_type": "code",
   "execution_count": 23,
   "metadata": {},
   "outputs": [],
   "source": [
    "x = [1,2,3]\n",
    "y = [1,1,2]"
   ]
  },
  {
   "cell_type": "code",
   "execution_count": 24,
   "metadata": {},
   "outputs": [
    {
     "data": {
      "text/plain": [
       "1.4142135623730951"
      ]
     },
     "execution_count": 24,
     "metadata": {},
     "output_type": "execute_result"
    }
   ],
   "source": [
    "distance.euclidean(x, y)"
   ]
  },
  {
   "cell_type": "markdown",
   "metadata": {
    "collapsed": true
   },
   "source": [
    "## 定数"
   ]
  },
  {
   "cell_type": "code",
   "execution_count": 25,
   "metadata": {},
   "outputs": [],
   "source": [
    "#constants(定数)！\n",
    "import scipy.constants"
   ]
  },
  {
   "cell_type": "code",
   "execution_count": 26,
   "metadata": {},
   "outputs": [
    {
     "data": {
      "text/plain": [
       "3.141592653589793"
      ]
     },
     "execution_count": 26,
     "metadata": {},
     "output_type": "execute_result"
    }
   ],
   "source": [
    "#円周率\n",
    "scipy.constants.pi"
   ]
  },
  {
   "cell_type": "code",
   "execution_count": 27,
   "metadata": {},
   "outputs": [
    {
     "data": {
      "text/plain": [
       "9.80665"
      ]
     },
     "execution_count": 27,
     "metadata": {},
     "output_type": "execute_result"
    }
   ],
   "source": [
    "#重力加速度\n",
    "scipy.constants.g"
   ]
  },
  {
   "cell_type": "code",
   "execution_count": 28,
   "metadata": {},
   "outputs": [
    {
     "data": {
      "text/plain": [
       "1.618033988749895"
      ]
     },
     "execution_count": 28,
     "metadata": {},
     "output_type": "execute_result"
    }
   ],
   "source": [
    "#黄金比\n",
    "scipy.constants.golden_ratio"
   ]
  },
  {
   "cell_type": "code",
   "execution_count": 29,
   "metadata": {},
   "outputs": [
    {
     "ename": "SyntaxError",
     "evalue": "invalid syntax (<ipython-input-29-f581277991a6>, line 2)",
     "output_type": "error",
     "traceback": [
      "\u001b[0;36m  File \u001b[0;32m\"<ipython-input-29-f581277991a6>\"\u001b[0;36m, line \u001b[0;32m2\u001b[0m\n\u001b[0;31m    scipy.constants.\u001b[0m\n\u001b[0m                    ^\u001b[0m\n\u001b[0;31mSyntaxError\u001b[0m\u001b[0;31m:\u001b[0m invalid syntax\n"
     ]
    }
   ],
   "source": [
    "#↓の行末にカーソルを持っていってTABキーを押すと、定数一覧が見れます。\n",
    "scipy.constants.\n",
    "#もしくはこちらにアクセス→[https://docs.scipy.org/doc/scipy-0.18.1/reference/constants.html]"
   ]
  },
  {
   "cell_type": "markdown",
   "metadata": {
    "collapsed": true,
    "slideshow": {
     "slide_type": "slide"
    }
   },
   "source": [
    "## 最近傍探索(scipy.spatial.KDTree)\n",
    "### 最近傍探索とは？\n",
    "<img src=\"./KDtree.png\" width=\"600\">"
   ]
  },
  {
   "cell_type": "markdown",
   "metadata": {},
   "source": [
    "## 最近傍探索\n",
    "### 最近傍探索とは？\n",
    "距離空間における最も近い点を探す最適化問題の一種、あるいはその解法。by Wikipedia先生<br>\n",
    "( ´・д・)ﾝ？\n",
    "<img src=\"./KDtree.png\" width=\"600\">"
   ]
  },
  {
   "cell_type": "markdown",
   "metadata": {
    "slideshow": {
     "slide_type": "notes"
    }
   },
   "source": [
    "このグラフのようにたくさんの点があった時に、特定の点（赤い点）に最も近い点を探す手法です。<br>\n",
    "例えば、「新しいラーメン屋さんができた時に、そのラーメンが自分の好みに合うかどうかを知りたい」ケースを考えます。上記のグラフの横軸を麺の長さ、縦軸を麺の太さだとすると、それぞれのお店はこのグラフのようにプロットできます。<br>\n",
    "自分の好みの店と新しくできた店が近いのであれば、新しい店も自分好みである可能性が高いと言えます。<br>\n",
    "このように、既存の物と新しい物の特徴量を距離として扱い、最も近い物を見つける、という問題や手法を最近傍探索と呼び、機械学習の分野で良く使われています。<br>\n",
    "KDTreeはその最近傍探索手法の一つで、全探索を行うより少ない計算量で最近傍探索を行うことができます。"
   ]
  },
  {
   "cell_type": "markdown",
   "metadata": {
    "slideshow": {
     "slide_type": "slide"
    }
   },
   "source": [
    "## KDTreeについて\n",
    "<img src=\"./Diagram-of-the-KD-tree-structure.png\" hight=\"900\">\n",
    "\n",
    "### 全探索を行うと9回、KDTreeなら最大3回の比較で済む"
   ]
  },
  {
   "cell_type": "code",
   "execution_count": 30,
   "metadata": {
    "slideshow": {
     "slide_type": "slide"
    }
   },
   "outputs": [],
   "source": [
    "## KDTreeモジュールをインポートします。\n",
    "from scipy.spatial import KDTree"
   ]
  },
  {
   "cell_type": "code",
   "execution_count": 38,
   "metadata": {
    "slideshow": {
     "slide_type": "fragment"
    }
   },
   "outputs": [],
   "source": [
    "#元になるデータを作成します\n",
    "import numpy as np\n",
    "point_num = 256\n",
    "dimention = 2\n",
    "range_min = 0\n",
    "range_max = 64\n",
    "\n",
    "points = np.random.randint(range_min, range_max, (point_num, dimention))\n",
    "new_point = (55,55)"
   ]
  },
  {
   "cell_type": "markdown",
   "metadata": {
    "slideshow": {
     "slide_type": "slide"
    }
   },
   "source": [
    "## 可視化"
   ]
  },
  {
   "cell_type": "code",
   "execution_count": 39,
   "metadata": {
    "slideshow": {
     "slide_type": "fragment"
    }
   },
   "outputs": [
    {
     "data": {
      "image/png": "[encoded data removed]",
      "text/plain": [
       "<Figure size 720x720 with 1 Axes>"
      ]
     },
     "metadata": {},
     "output_type": "display_data"
    }
   ],
   "source": [
    "# 可視化は後ほど詳しくお話するので、今は気にしないでください\n",
    "from matplotlib import pyplot\n",
    "pyplot.figure(figsize=(10, 10))\n",
    "pyplot.scatter(points[:, 0],points[:, 1])\n",
    "pyplot.scatter(new_point[0],new_point[1], c=\"red\", linewidths=\"10\")\n",
    "pyplot.show()"
   ]
  },
  {
   "cell_type": "markdown",
   "metadata": {},
   "source": [
    "## KD木を作る"
   ]
  },
  {
   "cell_type": "code",
   "execution_count": 40,
   "metadata": {},
   "outputs": [
    {
     "name": "stdout",
     "output_type": "stream",
     "text": [
      "[[ 1 42]\n",
      " [35 43]\n",
      " [38 16]\n",
      " [15 33]\n",
      " [32 29]\n",
      " [39 37]\n",
      " [22 33]\n",
      " [12 44]\n",
      " [45 55]\n",
      " [14 48]\n",
      " [52 29]\n",
      " [30 37]\n",
      " [30  5]\n",
      " [38 47]\n",
      " [51 52]\n",
      " [47 12]\n",
      " [22 33]\n",
      " [13 24]\n",
      " [ 5 35]\n",
      " [15 59]\n",
      " [51 57]\n",
      " [ 0 29]\n",
      " [35  3]\n",
      " [40 31]\n",
      " [33 63]\n",
      " [56 18]\n",
      " [45  6]\n",
      " [15 18]\n",
      " [47 63]\n",
      " [34 51]\n",
      " [60  0]\n",
      " [45 12]\n",
      " [19  9]\n",
      " [32 58]\n",
      " [21 24]\n",
      " [ 7 44]\n",
      " [38  7]\n",
      " [11 50]\n",
      " [29 32]\n",
      " [49 38]\n",
      " [46 55]\n",
      " [49 58]\n",
      " [58 31]\n",
      " [26 16]\n",
      " [ 8 59]\n",
      " [ 7 46]\n",
      " [13 43]\n",
      " [28 52]\n",
      " [54  4]\n",
      " [22 15]\n",
      " [21 21]\n",
      " [53 28]\n",
      " [ 1  1]\n",
      " [45 26]\n",
      " [13 26]\n",
      " [18 48]\n",
      " [20  0]\n",
      " [40 51]\n",
      " [38 19]\n",
      " [16 62]\n",
      " [32 30]\n",
      " [62 47]\n",
      " [ 2 56]\n",
      " [49 20]\n",
      " [13  3]\n",
      " [38 59]\n",
      " [37 31]\n",
      " [34 30]\n",
      " [21 50]\n",
      " [29 46]\n",
      " [ 8 56]\n",
      " [57 46]\n",
      " [17 47]\n",
      " [62 21]\n",
      " [22 33]\n",
      " [57 41]\n",
      " [14  0]\n",
      " [37 24]\n",
      " [33 31]\n",
      " [51 43]\n",
      " [ 5 22]\n",
      " [18  9]\n",
      " [13 59]\n",
      " [17 16]\n",
      " [42 53]\n",
      " [45 35]\n",
      " [63 59]\n",
      " [12 45]\n",
      " [32 32]\n",
      " [10 34]\n",
      " [36 34]\n",
      " [57 63]\n",
      " [43 12]\n",
      " [47 32]\n",
      " [17  8]\n",
      " [18 41]\n",
      " [62 32]\n",
      " [60 17]\n",
      " [14 43]\n",
      " [32 45]\n",
      " [17 14]\n",
      " [59  2]\n",
      " [42 40]\n",
      " [23 35]\n",
      " [32 62]\n",
      " [33 27]\n",
      " [34 15]\n",
      " [40 56]\n",
      " [24 43]\n",
      " [62  6]\n",
      " [36 25]\n",
      " [52 18]\n",
      " [27  4]\n",
      " [61 40]\n",
      " [62 50]\n",
      " [44  9]\n",
      " [16 10]\n",
      " [60 41]\n",
      " [ 5 48]\n",
      " [48 39]\n",
      " [21 26]\n",
      " [17 48]\n",
      " [60 57]\n",
      " [32 57]\n",
      " [44 15]\n",
      " [13 33]\n",
      " [12 44]\n",
      " [14 29]\n",
      " [45 52]\n",
      " [53 23]\n",
      " [60 60]\n",
      " [ 3  2]\n",
      " [41 12]\n",
      " [ 7 32]\n",
      " [25 22]\n",
      " [46 18]\n",
      " [21 33]\n",
      " [57  3]\n",
      " [28 35]\n",
      " [ 8  3]\n",
      " [18 11]\n",
      " [38 61]\n",
      " [ 4 37]\n",
      " [59 50]\n",
      " [34 14]\n",
      " [34 51]\n",
      " [20 47]\n",
      " [ 3 13]\n",
      " [20 32]\n",
      " [32 59]\n",
      " [59 52]\n",
      " [42  9]\n",
      " [14 31]\n",
      " [10 21]\n",
      " [18 29]\n",
      " [11 14]\n",
      " [50 54]\n",
      " [47 50]\n",
      " [ 9  0]\n",
      " [ 5 39]\n",
      " [55 31]\n",
      " [ 2 61]\n",
      " [24 22]\n",
      " [63 33]\n",
      " [53 24]\n",
      " [31 37]\n",
      " [50 28]\n",
      " [58 47]\n",
      " [12 31]\n",
      " [53 40]\n",
      " [30 42]\n",
      " [48 46]\n",
      " [26 28]\n",
      " [22 29]\n",
      " [22  6]\n",
      " [58 54]\n",
      " [18 48]\n",
      " [36 12]\n",
      " [29 55]\n",
      " [27 20]\n",
      " [38 22]\n",
      " [36 50]\n",
      " [16 31]\n",
      " [30 45]\n",
      " [ 6 29]\n",
      " [41 24]\n",
      " [44 28]\n",
      " [62 51]\n",
      " [ 3  3]\n",
      " [19 35]\n",
      " [32 63]\n",
      " [58  1]\n",
      " [ 7 55]\n",
      " [62 11]\n",
      " [24 37]\n",
      " [32 49]\n",
      " [33 40]\n",
      " [41  6]\n",
      " [31 38]\n",
      " [34 45]\n",
      " [56 49]\n",
      " [ 8 51]\n",
      " [40 19]\n",
      " [58  7]\n",
      " [33  5]\n",
      " [14 29]\n",
      " [42 52]\n",
      " [ 3 52]\n",
      " [47 46]\n",
      " [ 8  8]\n",
      " [57 18]\n",
      " [59 32]\n",
      " [12  5]\n",
      " [33 47]\n",
      " [54 58]\n",
      " [61 15]\n",
      " [ 6 29]\n",
      " [21 33]\n",
      " [54 48]\n",
      " [10 37]\n",
      " [58 47]\n",
      " [32 54]\n",
      " [36 51]\n",
      " [44 34]\n",
      " [ 9 40]\n",
      " [26 26]\n",
      " [21 29]\n",
      " [60 48]\n",
      " [30 31]\n",
      " [34 34]\n",
      " [61  7]\n",
      " [39 45]\n",
      " [37 36]\n",
      " [45 24]\n",
      " [25 45]\n",
      " [37 20]\n",
      " [ 7 48]\n",
      " [41 29]\n",
      " [13 38]\n",
      " [ 6 51]\n",
      " [12 22]\n",
      " [63 57]\n",
      " [45 11]\n",
      " [31 15]\n",
      " [13 53]\n",
      " [ 1 30]\n",
      " [ 5  7]\n",
      " [52 18]\n",
      " [10 11]\n",
      " [44  1]\n",
      " [30 51]\n",
      " [21 43]\n",
      " [30 57]\n",
      " [63 58]\n",
      " [13 37]\n",
      " [17 55]]\n"
     ]
    }
   ],
   "source": [
    "tree = KDTree(points)\n",
    "# .dataとすると中身が見れる\n",
    "print(tree.data)"
   ]
  },
  {
   "cell_type": "code",
   "execution_count": 41,
   "metadata": {},
   "outputs": [],
   "source": [
    "distance, number = tree.query(new_point)"
   ]
  },
  {
   "cell_type": "code",
   "execution_count": 42,
   "metadata": {},
   "outputs": [
    {
     "data": {
      "text/plain": [
       "214"
      ]
     },
     "execution_count": 42,
     "metadata": {},
     "output_type": "execute_result"
    }
   ],
   "source": [
    "number"
   ]
  },
  {
   "cell_type": "code",
   "execution_count": 44,
   "metadata": {},
   "outputs": [
    {
     "data": {
      "image/png": "[encoded data removed]",
      "text/plain": [
       "<Figure size 720x720 with 1 Axes>"
      ]
     },
     "metadata": {},
     "output_type": "display_data"
    }
   ],
   "source": [
    "from matplotlib import pyplot\n",
    "pyplot.figure(figsize=(10, 10))\n",
    "pyplot.scatter(points[:, 0],points[:, 1])\n",
    "pyplot.scatter(new_point[0],new_point[1], c=\"red\", linewidths=\"20\")\n",
    "pyplot.scatter(points[number, 0], points[number, 1], c=\"pink\", linewidths=\"20\")\n",
    "pyplot.show()"
   ]
  }
 ],
 "metadata": {
  "celltoolbar": "Slideshow",
  "kernelspec": {
   "display_name": "Python 3",
   "language": "python",
   "name": "python3"
  },
  "language_info": {
   "codemirror_mode": {
    "name": "ipython",
    "version": 3
   },
   "file_extension": ".py",
   "mimetype": "text/x-python",
   "name": "python",
   "nbconvert_exporter": "python",
   "pygments_lexer": "ipython3",
   "version": "3.6.5"
  }
 },
 "nbformat": 4,
 "nbformat_minor": 1
}
