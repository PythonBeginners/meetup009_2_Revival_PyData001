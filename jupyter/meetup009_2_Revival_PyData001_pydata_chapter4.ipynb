{
 "cells": [
  {
   "cell_type": "markdown",
   "metadata": {
    "collapsed": true,
    "slideshow": {
     "slide_type": "slide"
    }
   },
   "source": [
    "# IPython(Notebook) の使い方\n"
   ]
  },
  {
   "cell_type": "markdown",
   "metadata": {
    "slideshow": {
     "slide_type": "slide"
    }
   },
   "source": [
    "## アジェンダ\n",
    "### めっちゃ基礎\n",
    "- 四則演算\n",
    "- 文字列操作\n",
    "- モジュールの読み込み\n",
    "\n",
    "### Magic Functionsをいろいろ紹介\n",
    "\n",
    "### numpyの基礎\n",
    "- 配列の生成\n",
    "- 配列要素の抽出\n",
    "- 標準偏差\n",
    "\n",
    "### scipyの基礎\n",
    "- scipyで定義されている定数\n",
    "- 最近傍探索をやってみよう"
   ]
  },
  {
   "cell_type": "markdown",
   "metadata": {
    "slideshow": {
     "slide_type": "slide"
    }
   },
   "source": [
    "## めっちゃ基礎"
   ]
  },
  {
   "cell_type": "code",
   "execution_count": 1,
   "metadata": {
    "slideshow": {
     "slide_type": "fragment"
    }
   },
   "outputs": [
    {
     "data": {
      "text/plain": [
       "4"
      ]
     },
     "execution_count": 1,
     "metadata": {},
     "output_type": "execute_result"
    }
   ],
   "source": [
    "#四則演算\n",
    "2 + 2"
   ]
  },
  {
   "cell_type": "code",
   "execution_count": 2,
   "metadata": {
    "slideshow": {
     "slide_type": "fragment"
    }
   },
   "outputs": [
    {
     "data": {
      "text/plain": [
       "'hello world'"
      ]
     },
     "execution_count": 2,
     "metadata": {},
     "output_type": "execute_result"
    }
   ],
   "source": [
    "#文字列の結合\n",
    "'hello ' + \"world\""
   ]
  },
  {
   "cell_type": "code",
   "execution_count": 3,
   "metadata": {
    "slideshow": {
     "slide_type": "fragment"
    }
   },
   "outputs": [],
   "source": [
    "#モジュールの読み込み\n",
    "import random"
   ]
  },
  {
   "cell_type": "code",
   "execution_count": 127,
   "metadata": {
    "slideshow": {
     "slide_type": "fragment"
    }
   },
   "outputs": [
    {
     "data": {
      "text/plain": [
       "0.5090732838781342"
      ]
     },
     "execution_count": 127,
     "metadata": {},
     "output_type": "execute_result"
    }
   ],
   "source": [
    "#何回か実行してみよう！\n",
    "random.random()"
   ]
  },
  {
   "cell_type": "markdown",
   "metadata": {
    "collapsed": true,
    "slideshow": {
     "slide_type": "slide"
    }
   },
   "source": [
    "# OS非依存の便利なMagic Functions"
   ]
  },
  {
   "cell_type": "code",
   "execution_count": 129,
   "metadata": {
    "slideshow": {
     "slide_type": "fragment"
    }
   },
   "outputs": [
    {
     "data": {
      "text/plain": [
       "'/Users/nakazawa/Projects/PythonBeginners/meetup009_2_Revival_PyData001/jupyter'"
      ]
     },
     "execution_count": 129,
     "metadata": {},
     "output_type": "execute_result"
    }
   ],
   "source": [
    "#何が出てきました？\n",
    "%pwd"
   ]
  },
  {
   "cell_type": "code",
   "execution_count": 131,
   "metadata": {
    "slideshow": {
     "slide_type": "fragment"
    }
   },
   "outputs": [
    {
     "name": "stdout",
     "output_type": "stream",
     "text": [
      "Diagram-of-the-KD-tree-structure.png\r\n",
      "KDtree.png\r\n",
      "meetup009_2_Revival_PyData001_matplotlib_sample.ipynb\r\n",
      "meetup009_2_Revival_PyData001_opendata.ipynb\r\n",
      "meetup009_2_Revival_PyData001_pandas_sample.ipynb\r\n",
      "meetup009_2_Revival_PyData001_pydata_chapter4.ipynb\r\n",
      "sample.csv\r\n",
      "sample.json\r\n",
      "sample2.csv\r\n",
      "sample_graph.jpg\r\n",
      "standing_on_the_shoulders_of_Giants.jpeg\r\n"
     ]
    }
   ],
   "source": [
    "#シェルコマンドも使える\n",
    "!ls"
   ]
  },
  {
   "cell_type": "code",
   "execution_count": 132,
   "metadata": {
    "slideshow": {
     "slide_type": "fragment"
    }
   },
   "outputs": [
    {
     "data": {
      "text/plain": [
       "{'TERM_PROGRAM': 'iTerm.app',\n",
       " 'TERM': 'xterm-color',\n",
       " 'SHELL': '/bin/bash',\n",
       " 'TMPDIR': '/var/folders/kl/7wtp58351z3ddpk93bggp8g80000gp/T/',\n",
       " 'CONDA_SHLVL': '2',\n",
       " 'Apple_PubSub_Socket_Render': '/private/tmp/com.apple.launchd.SDDjIyF4xY/Render',\n",
       " 'CONDA_PROMPT_MODIFIER': '(pythonbeginners) ',\n",
       " 'TERM_PROGRAM_VERSION': '3.2.0',\n",
       " 'OLDPWD': '/Users/nakazawa/Projects/PythonBeginners/meetup009_2_Revival_PyData001',\n",
       " 'TERM_SESSION_ID': 'w0t1p0:CC65EE33-A559-437D-903F-C3EAF607F6A2',\n",
       " 'USER': 'nakazawa',\n",
       " 'CONDA_EXE': '/Users/nakazawa/anaconda3/bin/conda',\n",
       " 'SSH_AUTH_SOCK': '/private/tmp/com.apple.launchd.EuGt9fhfA5/Listeners',\n",
       " '__CF_USER_TEXT_ENCODING': '0x0:1:14',\n",
       " 'CONDA_PREFIX_1': '/Users/nakazawa/anaconda3/envs/buckmoon',\n",
       " 'PATH': '/Users/nakazawa/anaconda3/envs/pythonbeginners/bin:/Users/nakazawa/anaconda3/envs/pythonbeginners/bin:/Users/nakazawa/.rbenv/shims:/usr/local/opt/libxml2/bin:/usr/local/opt/libiconv/bin:/usr/local/opt/libxslt/bin:/usr/local/opt/expat/bin:/Users/nakazawa/anaconda3/envs/buckmoon/bin:/Users/nakazawa/anaconda3/bin:/usr/local:/sw2/bin:/usr/local/bin:/usr/bin:/bin:/usr/sbin:/sbin:/opt/X11/bin',\n",
       " 'CONDA_PREFIX': '/Users/nakazawa/anaconda3/envs/pythonbeginners',\n",
       " 'JAVA': '/Library/Java/JavaVirtualMachines/jdk-10.0.1.jdk/Contents/Home/bin',\n",
       " 'PWD': '/Users/nakazawa/Projects/PythonBeginners/meetup009_2_Revival_PyData001/jupyter',\n",
       " 'JAVA_HOME': '/Library/Java/JavaVirtualMachines/jdk-10.0.1.jdk/Contents/Home',\n",
       " 'LANG': 'ja_JP.UTF-8',\n",
       " 'ITERM_PROFILE': 'Default',\n",
       " 'XPC_FLAGS': '0x0',\n",
       " 'XPC_SERVICE_NAME': '0',\n",
       " 'SHLVL': '1',\n",
       " 'HOME': '/Users/nakazawa',\n",
       " 'COLORFGBG': '7;0',\n",
       " 'ITERM_SESSION_ID': 'w0t1p0:CC65EE33-A559-437D-903F-C3EAF607F6A2',\n",
       " 'CONDA_PYTHON_EXE': '/Users/nakazawa/anaconda3/bin/python',\n",
       " 'LOGNAME': 'nakazawa',\n",
       " 'CONDA_DEFAULT_ENV': 'pythonbeginners',\n",
       " 'DISPLAY': '/private/tmp/com.apple.launchd.rwbINSXjZF/org.macosforge.xquartz:0',\n",
       " 'COLORTERM': 'truecolor',\n",
       " '_': '/Users/nakazawa/anaconda3/envs/pythonbeginners/bin/jupyter',\n",
       " 'JPY_PARENT_PID': '50666',\n",
       " 'CLICOLOR': '1',\n",
       " 'PAGER': 'cat',\n",
       " 'GIT_PAGER': 'cat',\n",
       " 'MPLBACKEND': 'module://ipykernel.pylab.backend_inline'}"
      ]
     },
     "execution_count": 132,
     "metadata": {},
     "output_type": "execute_result"
    }
   ],
   "source": [
    "#環境変数一覧\n",
    "%env"
   ]
  },
  {
   "cell_type": "code",
   "execution_count": 133,
   "metadata": {
    "slideshow": {
     "slide_type": "slide"
    }
   },
   "outputs": [],
   "source": [
    "#Magic Functionsがわからなくなったらこれ！\n",
    "%quickref"
   ]
  },
  {
   "cell_type": "code",
   "execution_count": 135,
   "metadata": {
    "slideshow": {
     "slide_type": "fragment"
    }
   },
   "outputs": [
    {
     "name": "stdout",
     "output_type": "stream",
     "text": [
      "/bin/sh: dir: command not found\r\n"
     ]
    }
   ],
   "source": [
    "#環境によっては動かない(エラーメッセージが出る)かも\n",
    "!dir"
   ]
  },
  {
   "cell_type": "code",
   "execution_count": 136,
   "metadata": {
    "slideshow": {
     "slide_type": "fragment"
    }
   },
   "outputs": [
    {
     "name": "stdout",
     "output_type": "stream",
     "text": [
      "total 1496\r\n",
      "drwxr-xr-x  15 nakazawa  staff     480  8 10 16:51 \u001b[34m.\u001b[m\u001b[m\r\n",
      "drwxr-xr-x   8 nakazawa  staff     256  8 10 15:51 \u001b[34m..\u001b[m\u001b[m\r\n",
      "-rw-r--r--@  1 nakazawa  staff    6148  8 10 14:30 .DS_Store\r\n",
      "drwxr-xr-x   6 nakazawa  staff     192  7 18 23:43 \u001b[34m.ipynb_checkpoints\u001b[m\u001b[m\r\n",
      "-rw-r--r--   1 nakazawa  staff   96358  8 10 15:51 Diagram-of-the-KD-tree-structure.png\r\n",
      "-rw-r--r--   1 nakazawa  staff   11206  8 10 15:51 KDtree.png\r\n",
      "-rw-r--r--   1 nakazawa  staff  327411  8 10 15:51 meetup009_2_Revival_PyData001_matplotlib_sample.ipynb\r\n",
      "-rw-r--r--   1 nakazawa  staff  135030  8 10 15:51 meetup009_2_Revival_PyData001_opendata.ipynb\r\n",
      "-rw-r--r--   1 nakazawa  staff   16283  8 10 15:51 meetup009_2_Revival_PyData001_pandas_sample.ipynb\r\n",
      "-rw-r--r--   1 nakazawa  staff   64613  8 10 16:51 meetup009_2_Revival_PyData001_pydata_chapter4.ipynb\r\n",
      "-rw-r--r--   1 nakazawa  staff      71  8 10 15:51 sample.csv\r\n",
      "-rw-r--r--   1 nakazawa  staff     149  8 10 15:51 sample.json\r\n",
      "-rw-r--r--   1 nakazawa  staff     147  8 10 15:51 sample2.csv\r\n",
      "-rw-r--r--   1 nakazawa  staff   41511  8 10 15:51 sample_graph.jpg\r\n",
      "-rw-r--r--@  1 nakazawa  staff   41505  8 10 16:09 standing_on_the_shoulders_of_Giants.jpeg\r\n"
     ]
    }
   ],
   "source": [
    "#OS依存のコードを書く時は注意が必要\n",
    "!ls -la"
   ]
  },
  {
   "cell_type": "markdown",
   "metadata": {
    "collapsed": true,
    "slideshow": {
     "slide_type": "slide"
    }
   },
   "source": [
    "# N次元配列操作ライブラリ numpyの基礎"
   ]
  },
  {
   "cell_type": "code",
   "execution_count": 137,
   "metadata": {
    "slideshow": {
     "slide_type": "fragment"
    }
   },
   "outputs": [],
   "source": [
    "#numpyのインポート\n",
    "import numpy"
   ]
  },
  {
   "cell_type": "code",
   "execution_count": 138,
   "metadata": {
    "slideshow": {
     "slide_type": "fragment"
    }
   },
   "outputs": [
    {
     "data": {
      "text/plain": [
       "array([1, 2, 3])"
      ]
     },
     "execution_count": 138,
     "metadata": {},
     "output_type": "execute_result"
    }
   ],
   "source": [
    "#array（配列の生成）\n",
    "numpy.array([1,2,3])\n",
    "#鍵カッコを忘れずに！！\n",
    "#numpy.array(1,2,3)"
   ]
  },
  {
   "cell_type": "code",
   "execution_count": 139,
   "metadata": {
    "slideshow": {
     "slide_type": "fragment"
    }
   },
   "outputs": [
    {
     "name": "stdout",
     "output_type": "stream",
     "text": [
      "[[1 3]\n",
      " [2 4]]\n"
     ]
    }
   ],
   "source": [
    "# 多次元配列\n",
    "a = numpy.array([[1, 3], [2, 4]])\n",
    "print(a)"
   ]
  },
  {
   "cell_type": "code",
   "execution_count": 140,
   "metadata": {
    "slideshow": {
     "slide_type": "fragment"
    }
   },
   "outputs": [
    {
     "name": "stdout",
     "output_type": "stream",
     "text": [
      "3\n",
      "[1 3]\n"
     ]
    }
   ],
   "source": [
    "#　配列要素の抽出\n",
    "print(a[0][1])\n",
    "print(a[0])"
   ]
  },
  {
   "cell_type": "markdown",
   "metadata": {
    "slideshow": {
     "slide_type": "slide"
    }
   },
   "source": [
    "# N次元配列操作ライブラリ numpyの基礎\n",
    "## 配列要素同士で四則演算もできる"
   ]
  },
  {
   "cell_type": "code",
   "execution_count": 146,
   "metadata": {
    "slideshow": {
     "slide_type": "fragment"
    }
   },
   "outputs": [
    {
     "name": "stdout",
     "output_type": "stream",
     "text": [
      "x=\n",
      " [[1 2]\n",
      " [3 4]]\n",
      "y=\n",
      " [[5 6]\n",
      " [7 8]]\n"
     ]
    }
   ],
   "source": [
    "x = numpy.array([[1,2], [3,4]])\n",
    "y = numpy.array([[5,6], [7,8]])\n",
    "print(\"x=\\n\",x)\n",
    "print(\"y=\\n\",y)"
   ]
  },
  {
   "cell_type": "code",
   "execution_count": 148,
   "metadata": {
    "slideshow": {
     "slide_type": "fragment"
    }
   },
   "outputs": [
    {
     "name": "stdout",
     "output_type": "stream",
     "text": [
      "[[ 6  8]\n",
      " [10 12]]\n"
     ]
    }
   ],
   "source": [
    "added_array = x + y\n",
    "print(added_array)"
   ]
  },
  {
   "cell_type": "code",
   "execution_count": 149,
   "metadata": {
    "slideshow": {
     "slide_type": "fragment"
    }
   },
   "outputs": [
    {
     "name": "stdout",
     "output_type": "stream",
     "text": [
      "[[12 16]\n",
      " [20 24]]\n"
     ]
    }
   ],
   "source": [
    "print(2*added_array)"
   ]
  },
  {
   "cell_type": "markdown",
   "metadata": {
    "collapsed": true,
    "slideshow": {
     "slide_type": "slide"
    }
   },
   "source": [
    "# N次元配列操作ライブラリ numpyの基礎\n",
    "## numpyで標準偏差"
   ]
  },
  {
   "cell_type": "code",
   "execution_count": 150,
   "metadata": {
    "slideshow": {
     "slide_type": "fragment"
    }
   },
   "outputs": [
    {
     "data": {
      "text/plain": [
       "array([80, 70, 65, 82, 90])"
      ]
     },
     "execution_count": 150,
     "metadata": {},
     "output_type": "execute_result"
    }
   ],
   "source": [
    "#配列を定義\n",
    "score = numpy.array([80, 70, 65, 82, 90])\n",
    "score"
   ]
  },
  {
   "cell_type": "code",
   "execution_count": 151,
   "metadata": {
    "slideshow": {
     "slide_type": "fragment"
    }
   },
   "outputs": [
    {
     "data": {
      "text/plain": [
       "8.890444308357146"
      ]
     },
     "execution_count": 151,
     "metadata": {},
     "output_type": "execute_result"
    }
   ],
   "source": [
    "#standard deviation（標準偏差）の略？\n",
    "numpy.std(score)"
   ]
  },
  {
   "cell_type": "code",
   "execution_count": 152,
   "metadata": {
    "slideshow": {
     "slide_type": "fragment"
    }
   },
   "outputs": [
    {
     "name": "stdout",
     "output_type": "stream",
     "text": [
      "標準偏差 12.535663410560174\n",
      "平均 80.0\n"
     ]
    }
   ],
   "source": [
    "#scoreの中身を変えて、標準偏差を見てみよう\n",
    "score = numpy.array([95, 74, 67, 72, 99, 87, 66])\n",
    "print(\"標準偏差\",numpy.std(score))\n",
    "print(\"平均\",numpy.sum(score)/len(score))"
   ]
  },
  {
   "cell_type": "code",
   "execution_count": 153,
   "metadata": {
    "slideshow": {
     "slide_type": "fragment"
    }
   },
   "outputs": [
    {
     "name": "stdout",
     "output_type": "stream",
     "text": [
      "標準偏差 0.0\n",
      "平均 80.0\n"
     ]
    }
   ],
   "source": [
    "score = numpy.array([80, 80, 80, 80, 80, 80, 80])\n",
    "print(\"標準偏差\",numpy.std(score))\n",
    "print(\"平均\",numpy.sum(score)/len(score))"
   ]
  },
  {
   "cell_type": "markdown",
   "metadata": {
    "collapsed": true,
    "slideshow": {
     "slide_type": "slide"
    }
   },
   "source": [
    "## 科学計算ライブラリ scipy"
   ]
  },
  {
   "cell_type": "markdown",
   "metadata": {
    "slideshow": {
     "slide_type": "slide"
    }
   },
   "source": [
    "## 科学計算ライブラリ scipy\n",
    "### ２点の間の距離を求めてみよう"
   ]
  },
  {
   "cell_type": "code",
   "execution_count": 101,
   "metadata": {
    "slideshow": {
     "slide_type": "fragment"
    }
   },
   "outputs": [],
   "source": [
    "#scipy(モジュール)に含まれるdistanceオブジェクトを指定\n",
    "from scipy.spatial import distance"
   ]
  },
  {
   "cell_type": "code",
   "execution_count": 102,
   "metadata": {
    "slideshow": {
     "slide_type": "fragment"
    }
   },
   "outputs": [],
   "source": [
    "# データを作成\n",
    "x = [1,2,3]\n",
    "y = [1,1,2]"
   ]
  },
  {
   "cell_type": "code",
   "execution_count": 103,
   "metadata": {
    "slideshow": {
     "slide_type": "fragment"
    }
   },
   "outputs": [
    {
     "data": {
      "text/plain": [
       "1.4142135623730951"
      ]
     },
     "execution_count": 103,
     "metadata": {},
     "output_type": "execute_result"
    }
   ],
   "source": [
    "# ユークリッド幾何距離を求めます\n",
    "distance.euclidean(x, y)"
   ]
  },
  {
   "cell_type": "markdown",
   "metadata": {
    "collapsed": true,
    "slideshow": {
     "slide_type": "slide"
    }
   },
   "source": [
    "## 科学計算ライブラリ scipy\n",
    "### 定数"
   ]
  },
  {
   "cell_type": "code",
   "execution_count": 104,
   "metadata": {
    "slideshow": {
     "slide_type": "fragment"
    }
   },
   "outputs": [],
   "source": [
    "#constants(定数)！\n",
    "import scipy.constants"
   ]
  },
  {
   "cell_type": "code",
   "execution_count": 105,
   "metadata": {
    "slideshow": {
     "slide_type": "fragment"
    }
   },
   "outputs": [
    {
     "data": {
      "text/plain": [
       "3.141592653589793"
      ]
     },
     "execution_count": 105,
     "metadata": {},
     "output_type": "execute_result"
    }
   ],
   "source": [
    "#円周率\n",
    "scipy.constants.pi"
   ]
  },
  {
   "cell_type": "code",
   "execution_count": 106,
   "metadata": {
    "slideshow": {
     "slide_type": "fragment"
    }
   },
   "outputs": [
    {
     "data": {
      "text/plain": [
       "9.80665"
      ]
     },
     "execution_count": 106,
     "metadata": {},
     "output_type": "execute_result"
    }
   ],
   "source": [
    "#重力加速度\n",
    "scipy.constants.g"
   ]
  },
  {
   "cell_type": "code",
   "execution_count": 107,
   "metadata": {
    "slideshow": {
     "slide_type": "fragment"
    }
   },
   "outputs": [
    {
     "data": {
      "text/plain": [
       "1.618033988749895"
      ]
     },
     "execution_count": 107,
     "metadata": {},
     "output_type": "execute_result"
    }
   ],
   "source": [
    "#黄金比\n",
    "scipy.constants.golden_ratio"
   ]
  },
  {
   "cell_type": "code",
   "execution_count": 71,
   "metadata": {},
   "outputs": [
    {
     "ename": "SyntaxError",
     "evalue": "invalid syntax (<ipython-input-71-f581277991a6>, line 2)",
     "output_type": "error",
     "traceback": [
      "\u001b[0;36m  File \u001b[0;32m\"<ipython-input-71-f581277991a6>\"\u001b[0;36m, line \u001b[0;32m2\u001b[0m\n\u001b[0;31m    scipy.constants.\u001b[0m\n\u001b[0m                    ^\u001b[0m\n\u001b[0;31mSyntaxError\u001b[0m\u001b[0;31m:\u001b[0m invalid syntax\n"
     ]
    }
   ],
   "source": [
    "#↓の行末にカーソルを持っていってTABキーを押すと、定数一覧が見れます。\n",
    "scipy.constants.\n",
    "#もしくはこちらにアクセス→[https://docs.scipy.org/doc/scipy-0.18.1/reference/constants.html]"
   ]
  },
  {
   "cell_type": "markdown",
   "metadata": {
    "collapsed": true,
    "slideshow": {
     "slide_type": "slide"
    }
   },
   "source": [
    "## 科学計算ライブラリ scipy\n",
    "\n",
    "## 最近傍探索(scipy.spatial.KDTree)\n",
    "### 最近傍探索とは？\n",
    "<img src=\"./KDtree.png\" width=\"600\">"
   ]
  },
  {
   "cell_type": "markdown",
   "metadata": {
    "slideshow": {
     "slide_type": "slide"
    }
   },
   "source": [
    "## 科学計算ライブラリ scipy\n",
    "\n",
    "## 最近傍探索(scipy.spatial.KDTree)\n",
    "### 最近傍探索とは？\n",
    "距離空間における最も近い点を探す最適化問題の一種、あるいはその解法。by Wikipedia先生<br>\n",
    "( ´・д・)ﾝ？\n",
    "<img src=\"./KDtree.png\" width=\"600\">"
   ]
  },
  {
   "cell_type": "markdown",
   "metadata": {
    "slideshow": {
     "slide_type": "notes"
    }
   },
   "source": [
    "このグラフのようにたくさんの点があった時に、特定の点（赤い点）に最も近い点を探す手法です。<br>\n",
    "例えば、「新しいラーメン屋さんができた時に、そのラーメンが自分の好みに合うかどうかを知りたい」ケースを考えます。上記のグラフの横軸を麺の長さ、縦軸を麺の太さだとすると、それぞれのお店はこのグラフのようにプロットできます。<br>\n",
    "自分の好みの店と新しくできた店が近いのであれば、新しい店も自分好みである可能性が高いと言えます。<br>\n",
    "このように、既存の物と新しい物の特徴量を距離として扱い、最も近い物を見つける、という問題や手法を最近傍探索と呼び、機械学習の分野で良く使われています。<br>\n",
    "KDTreeはその最近傍探索手法の一つで、全探索を行うより少ない計算量で最近傍探索を行うことができます。"
   ]
  },
  {
   "cell_type": "code",
   "execution_count": null,
   "metadata": {},
   "outputs": [],
   "source": []
  },
  {
   "cell_type": "markdown",
   "metadata": {
    "slideshow": {
     "slide_type": "slide"
    }
   },
   "source": [
    "## KDTreeについて\n",
    "<img src=\"./Diagram-of-the-KD-tree-structure.png\" hight=\"900\">\n",
    "\n",
    "### 全探索を行うと9回、KDTreeなら最大3回の比較で済む"
   ]
  },
  {
   "cell_type": "markdown",
   "metadata": {
    "slideshow": {
     "slide_type": "slide"
    }
   },
   "source": [
    "# 早速やってみよう"
   ]
  },
  {
   "cell_type": "code",
   "execution_count": 85,
   "metadata": {
    "slideshow": {
     "slide_type": "fragment"
    }
   },
   "outputs": [],
   "source": [
    "## KDTreeモジュールをインポートします。\n",
    "from scipy.spatial import KDTree"
   ]
  },
  {
   "cell_type": "markdown",
   "metadata": {
    "slideshow": {
     "slide_type": "slide"
    }
   },
   "source": [
    "# 早速やってみよう\n",
    "## 元になるデータを作成\n",
    "### 最大64、最小0の値を持つ 2次元データを256点、検索用の点を1点作成\n"
   ]
  },
  {
   "cell_type": "code",
   "execution_count": 86,
   "metadata": {
    "slideshow": {
     "slide_type": "fragment"
    }
   },
   "outputs": [],
   "source": [
    "import numpy as np\n",
    "point_num = 256\n",
    "dimention = 2\n",
    "range_min = 0\n",
    "range_max = 64\n",
    "\n",
    "points = np.random.randint(range_min, range_max, (point_num, dimention))\n",
    "\n",
    "new_point = (55,55)"
   ]
  },
  {
   "cell_type": "markdown",
   "metadata": {
    "slideshow": {
     "slide_type": "slide"
    }
   },
   "source": [
    "# 早速やってみよう\n",
    "\n",
    "## 今作ったデータを可視化"
   ]
  },
  {
   "cell_type": "code",
   "execution_count": 87,
   "metadata": {
    "slideshow": {
     "slide_type": "fragment"
    }
   },
   "outputs": [
    {
     "data": {
      "image/png": "[encoded data removed]",
      "text/plain": [
       "<Figure size 720x720 with 1 Axes>"
      ]
     },
     "metadata": {},
     "output_type": "display_data"
    }
   ],
   "source": [
    "# 可視化は後ほど詳しくお話するので、今は気にしないでください\n",
    "from matplotlib import pyplot\n",
    "pyplot.figure(figsize=(10, 10))\n",
    "pyplot.scatter(points[:, 0],points[:, 1])\n",
    "pyplot.scatter(new_point[0],new_point[1], c=\"red\", linewidths=\"10\")\n",
    "pyplot.show()"
   ]
  },
  {
   "cell_type": "markdown",
   "metadata": {
    "slideshow": {
     "slide_type": "slide"
    }
   },
   "source": [
    "# 早速やってみよう\n",
    "## KD木を作る"
   ]
  },
  {
   "cell_type": "code",
   "execution_count": 161,
   "metadata": {
    "slideshow": {
     "slide_type": "fragment"
    }
   },
   "outputs": [
    {
     "name": "stdout",
     "output_type": "stream",
     "text": [
      "[[53 36]\n",
      " [ 8 34]\n",
      " [41 63]\n",
      " [35 38]\n",
      " [60 63]\n",
      " [37  7]\n",
      " [55  8]\n",
      " [38 27]\n",
      " [52 40]\n",
      " [ 1 36]\n",
      " [12  5]\n",
      " [ 0  1]\n",
      " [32 40]\n",
      " [ 2  9]\n",
      " [37 46]\n",
      " [30 13]\n",
      " [42 57]\n",
      " [ 4 29]\n",
      " [ 3 45]\n",
      " [ 4 49]\n",
      " [57 63]\n",
      " [19 48]\n",
      " [ 5 39]\n",
      " [ 8 47]\n",
      " [11 43]\n",
      " [ 5 30]\n",
      " [61 23]\n",
      " [12 29]\n",
      " [15  5]\n",
      " [20 44]\n",
      " [ 2 56]\n",
      " [25  5]\n",
      " [27 23]\n",
      " [22 48]\n",
      " [22 47]\n",
      " [21 60]\n",
      " [21 22]\n",
      " [52 47]\n",
      " [31 62]\n",
      " [18 28]\n",
      " [61 63]\n",
      " [26 59]\n",
      " [ 7 48]\n",
      " [17 15]\n",
      " [12 49]\n",
      " [12 25]\n",
      " [ 8 44]\n",
      " [27 55]\n",
      " [60 27]\n",
      " [35 43]\n",
      " [ 3 11]\n",
      " [61 38]\n",
      " [11 30]\n",
      " [14 23]\n",
      " [37 54]\n",
      " [ 2 45]\n",
      " [34 33]\n",
      " [24 15]\n",
      " [ 8  3]\n",
      " [61 44]\n",
      " [27 25]\n",
      " [55 12]\n",
      " [ 9 15]\n",
      " [52 45]\n",
      " [53 37]\n",
      " [41 39]\n",
      " [10 27]\n",
      " [31 53]\n",
      " [37 58]\n",
      " [25 41]\n",
      " [53 12]\n",
      " [28 15]\n",
      " [11 49]\n",
      " [28 19]\n",
      " [23  3]\n",
      " [11 57]\n",
      " [26 31]\n",
      " [ 6 59]\n",
      " [23 47]\n",
      " [37 46]\n",
      " [13  7]\n",
      " [33 55]\n",
      " [ 1 32]\n",
      " [23 62]\n",
      " [19 39]\n",
      " [35 37]\n",
      " [34 44]\n",
      " [ 5  6]\n",
      " [40 18]\n",
      " [58 48]\n",
      " [41  0]\n",
      " [ 1  3]\n",
      " [ 9 35]\n",
      " [42 27]\n",
      " [ 1 54]\n",
      " [44 18]\n",
      " [19  3]\n",
      " [24 20]\n",
      " [13  6]\n",
      " [ 5 35]\n",
      " [19 40]\n",
      " [54 49]\n",
      " [23  6]\n",
      " [12  6]\n",
      " [54 56]\n",
      " [25 26]\n",
      " [32 27]\n",
      " [57 47]\n",
      " [20  2]\n",
      " [22 39]\n",
      " [33 31]\n",
      " [52 56]\n",
      " [ 5  2]\n",
      " [16 11]\n",
      " [14 61]\n",
      " [57 25]\n",
      " [34 58]\n",
      " [13 41]\n",
      " [ 8  7]\n",
      " [42 50]\n",
      " [ 9 24]\n",
      " [45 44]\n",
      " [32  9]\n",
      " [58 11]\n",
      " [17 40]\n",
      " [30 46]\n",
      " [50 16]\n",
      " [37 52]\n",
      " [ 1 30]\n",
      " [60  8]\n",
      " [10  9]\n",
      " [54 58]\n",
      " [33 58]\n",
      " [52 10]\n",
      " [19 52]\n",
      " [20  0]\n",
      " [53 35]\n",
      " [14 53]\n",
      " [54  6]\n",
      " [49 59]\n",
      " [ 9 52]\n",
      " [44 32]\n",
      " [55 33]\n",
      " [46 16]\n",
      " [17 24]\n",
      " [11 25]\n",
      " [60 15]\n",
      " [60 34]\n",
      " [39 19]\n",
      " [12 23]\n",
      " [17 17]\n",
      " [ 3 48]\n",
      " [19  2]\n",
      " [18 11]\n",
      " [53  2]\n",
      " [46  2]\n",
      " [41 21]\n",
      " [17 44]\n",
      " [36 63]\n",
      " [53 53]\n",
      " [ 0  4]\n",
      " [29 29]\n",
      " [23  1]\n",
      " [29 29]\n",
      " [21 14]\n",
      " [44 59]\n",
      " [12 21]\n",
      " [44 37]\n",
      " [44 39]\n",
      " [12 43]\n",
      " [56 54]\n",
      " [10  3]\n",
      " [30 60]\n",
      " [ 5 45]\n",
      " [29 29]\n",
      " [48 22]\n",
      " [20 61]\n",
      " [32  6]\n",
      " [20  3]\n",
      " [63 29]\n",
      " [10 30]\n",
      " [52 11]\n",
      " [33 27]\n",
      " [53 61]\n",
      " [19 63]\n",
      " [49 18]\n",
      " [62 11]\n",
      " [63 53]\n",
      " [28 60]\n",
      " [29 34]\n",
      " [ 3 26]\n",
      " [29 33]\n",
      " [32 53]\n",
      " [13  2]\n",
      " [24 42]\n",
      " [ 8  0]\n",
      " [48 41]\n",
      " [22 57]\n",
      " [33  6]\n",
      " [56 53]\n",
      " [39 62]\n",
      " [41 27]\n",
      " [22 11]\n",
      " [26  9]\n",
      " [11 32]\n",
      " [31  9]\n",
      " [10 42]\n",
      " [30  2]\n",
      " [36  4]\n",
      " [12 16]\n",
      " [35  8]\n",
      " [44 12]\n",
      " [37  5]\n",
      " [52 16]\n",
      " [26 30]\n",
      " [30 32]\n",
      " [57 52]\n",
      " [25  3]\n",
      " [18 21]\n",
      " [50  6]\n",
      " [25 36]\n",
      " [36 18]\n",
      " [ 2 34]\n",
      " [51 49]\n",
      " [33 52]\n",
      " [23  2]\n",
      " [35  6]\n",
      " [ 4  4]\n",
      " [62  6]\n",
      " [32 18]\n",
      " [63 57]\n",
      " [34 11]\n",
      " [33 42]\n",
      " [40 26]\n",
      " [ 4 34]\n",
      " [59 25]\n",
      " [ 6 47]\n",
      " [37  3]\n",
      " [58 40]\n",
      " [14 14]\n",
      " [31 14]\n",
      " [ 1 28]\n",
      " [46 48]\n",
      " [46 35]\n",
      " [20 44]\n",
      " [ 3  1]\n",
      " [31 47]\n",
      " [ 2 35]\n",
      " [16 37]\n",
      " [ 8 45]\n",
      " [25 11]\n",
      " [54  5]\n",
      " [63 13]\n",
      " [34 55]\n",
      " [56  9]\n",
      " [14 36]]\n"
     ]
    }
   ],
   "source": [
    "tree = KDTree(points)\n",
    "# .dataとすると中身が見れる\n",
    "print(tree.data)"
   ]
  },
  {
   "cell_type": "markdown",
   "metadata": {
    "slideshow": {
     "slide_type": "slide"
    }
   },
   "source": [
    "# 早速やってみよう\n",
    "## 実際に検索してみる"
   ]
  },
  {
   "cell_type": "code",
   "execution_count": 162,
   "metadata": {
    "slideshow": {
     "slide_type": "fragment"
    }
   },
   "outputs": [],
   "source": [
    "distance, number = tree.query(new_point)"
   ]
  },
  {
   "cell_type": "code",
   "execution_count": 163,
   "metadata": {
    "slideshow": {
     "slide_type": "fragment"
    }
   },
   "outputs": [
    {
     "name": "stdout",
     "output_type": "stream",
     "text": [
      "最近傍点のインデックス： 104\n",
      "新しい点 :  (55, 55) , 最近傍点： [54 56]\n",
      "新しい点 と 最近傍点の距離： 1.4142135623730951\n"
     ]
    }
   ],
   "source": [
    "print(\"最近傍点のインデックス：\",number)\n",
    "print(\"新しい点 : \", new_point,\", 最近傍点：\",points[number] )\n",
    "print(\"新しい点 と 最近傍点の距離：\", distance)"
   ]
  },
  {
   "cell_type": "code",
   "execution_count": 169,
   "metadata": {
    "slideshow": {
     "slide_type": "fragment"
    }
   },
   "outputs": [
    {
     "data": {
      "text/plain": [
       "<matplotlib.collections.PathCollection at 0x619a8b048>"
      ]
     },
     "execution_count": 169,
     "metadata": {},
     "output_type": "execute_result"
    },
    {
     "data": {
      "image/png": "[encoded data removed]",
      "text/plain": [
       "<Figure size 1440x720 with 2 Axes>"
      ]
     },
     "metadata": {},
     "output_type": "display_data"
    }
   ],
   "source": [
    "from matplotlib import pyplot\n",
    "fig, (axL, axR) = pyplot.subplots(ncols=2, figsize=(20,10))\n",
    "\n",
    "axL.scatter(points[:, 0],points[:, 1])\n",
    "axL.scatter(new_point[0],new_point[1], c=\"red\", linewidths=\"20\")\n",
    "\n",
    "\n",
    "axR.scatter(points[:, 0],points[:, 1])\n",
    "axR.scatter(new_point[0],new_point[1], c=\"red\", linewidths=\"20\")\n",
    "axR.scatter(points[number, 0], points[number, 1], c=\"pink\", linewidths=\"20\")"
   ]
  },
  {
   "cell_type": "code",
   "execution_count": 171,
   "metadata": {
    "slideshow": {
     "slide_type": "slide"
    }
   },
   "outputs": [
    {
     "data": {
      "text/plain": [
       "(50, 60)"
      ]
     },
     "execution_count": 171,
     "metadata": {},
     "output_type": "execute_result"
    },
    {
     "data": {
      "image/png": "[encoded data removed]",
      "text/plain": [
       "<Figure size 1440x720 with 2 Axes>"
      ]
     },
     "metadata": {},
     "output_type": "display_data"
    }
   ],
   "source": [
    "from matplotlib import pyplot\n",
    "fig, (axL, axR) = pyplot.subplots(ncols=2, figsize=(20,10))\n",
    "\n",
    "axL.scatter(points[:, 0],points[:, 1])\n",
    "axL.scatter(new_point[0],new_point[1], c=\"red\", linewidths=\"20\")\n",
    "axL.set_xlim(50,60)\n",
    "axL.set_ylim(50,60)\n",
    "\n",
    "\n",
    "axR.scatter(points[:, 0],points[:, 1])\n",
    "axR.scatter(new_point[0],new_point[1], c=\"red\", linewidths=\"20\")\n",
    "axR.scatter(points[number, 0], points[number, 1], c=\"pink\", linewidths=\"20\")\n",
    "axR.set_xlim(50,60)\n",
    "axR.set_ylim(50,60)\n"
   ]
  },
  {
   "cell_type": "markdown",
   "metadata": {
    "slideshow": {
     "slide_type": "slide"
    }
   },
   "source": [
    "# このようにSciPyには機械学習に使える機能が沢山あります\n",
    "## なので、自分で作成する前に既に実装されていないか調べてみてください。\n",
    "<img src=\"./standing_on_the_shoulders_of_Giants.jpeg\" width=\"600\">"
   ]
  }
 ],
 "metadata": {
  "celltoolbar": "Slideshow",
  "kernelspec": {
   "display_name": "Python 3",
   "language": "python",
   "name": "python3"
  },
  "language_info": {
   "codemirror_mode": {
    "name": "ipython",
    "version": 3
   },
   "file_extension": ".py",
   "mimetype": "text/x-python",
   "name": "python",
   "nbconvert_exporter": "python",
   "pygments_lexer": "ipython3",
   "version": "3.6.5"
  }
 },
 "nbformat": 4,
 "nbformat_minor": 1
}
