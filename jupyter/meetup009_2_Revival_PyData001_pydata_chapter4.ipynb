{
 "cells": [
  {
   "cell_type": "markdown",
   "metadata": {
    "collapsed": true,
    "slideshow": {
     "slide_type": "slide"
    }
   },
   "source": [
    "# IPython(Notebook) の使い方(10分くらい)\n"
   ]
  },
  {
   "cell_type": "markdown",
   "metadata": {
    "slideshow": {
     "slide_type": "slide"
    }
   },
   "source": [
    "## アジェンダ\n",
    "### めっちゃ基礎\n",
    "- 四則演算\n",
    "- 文字列操作\n",
    "- モジュールの読み込み\n",
    "\n",
    "### Magic Functionsをいろいろ紹介\n",
    "\n",
    "### numpyの基礎\n",
    "- 配列の生成\n",
    "- 配列要素の抽出\n",
    "- 標準偏差\n",
    "\n",
    "### scipyの基礎\n",
    "- scipyで定義されている定数\n",
    "- 最近傍探索をやってみよう"
   ]
  },
  {
   "cell_type": "markdown",
   "metadata": {
    "slideshow": {
     "slide_type": "slide"
    }
   },
   "source": [
    "## めっちゃ基礎"
   ]
  },
  {
   "cell_type": "code",
   "execution_count": 1,
   "metadata": {
    "slideshow": {
     "slide_type": "fragment"
    }
   },
   "outputs": [
    {
     "data": {
      "text/plain": [
       "4"
      ]
     },
     "execution_count": 1,
     "metadata": {},
     "output_type": "execute_result"
    }
   ],
   "source": [
    "#四則演算\n",
    "2 + 2"
   ]
  },
  {
   "cell_type": "code",
   "execution_count": 1,
   "metadata": {
    "slideshow": {
     "slide_type": "fragment"
    }
   },
   "outputs": [
    {
     "data": {
      "text/plain": [
       "'hello world'"
      ]
     },
     "execution_count": 1,
     "metadata": {},
     "output_type": "execute_result"
    }
   ],
   "source": [
    "#文字列の結合\n",
    "'hello ' + \"world\""
   ]
  },
  {
   "cell_type": "code",
   "execution_count": 2,
   "metadata": {
    "slideshow": {
     "slide_type": "fragment"
    }
   },
   "outputs": [],
   "source": [
    "#モジュールの読み込み\n",
    "import random"
   ]
  },
  {
   "cell_type": "code",
   "execution_count": 20,
   "metadata": {
    "slideshow": {
     "slide_type": "fragment"
    }
   },
   "outputs": [
    {
     "data": {
      "text/plain": [
       "0.9052058848787883"
      ]
     },
     "execution_count": 20,
     "metadata": {},
     "output_type": "execute_result"
    }
   ],
   "source": [
    "#何回か実行してみよう！\n",
    "random.random()"
   ]
  },
  {
   "cell_type": "markdown",
   "metadata": {
    "collapsed": true,
    "slideshow": {
     "slide_type": "slide"
    }
   },
   "source": [
    "# OS非依存の便利なMagic Functions"
   ]
  },
  {
   "cell_type": "code",
   "execution_count": 21,
   "metadata": {
    "slideshow": {
     "slide_type": "fragment"
    }
   },
   "outputs": [
    {
     "data": {
      "text/plain": [
       "'/Users/nakazawa/Projects/PythonBeginners/meetup009_2_Revival_PyData001/jupyter'"
      ]
     },
     "execution_count": 21,
     "metadata": {},
     "output_type": "execute_result"
    }
   ],
   "source": [
    "#何が出てきました？\n",
    "%pwd"
   ]
  },
  {
   "cell_type": "code",
   "execution_count": 22,
   "metadata": {
    "slideshow": {
     "slide_type": "fragment"
    }
   },
   "outputs": [
    {
     "name": "stdout",
     "output_type": "stream",
     "text": [
      "Diagram-of-the-KD-tree-structure.png\r\n",
      "KDtree.png\r\n",
      "meetup009_2_Revival_PyData001_matplotlib_sample.ipynb\r\n",
      "meetup009_2_Revival_PyData001_matplotlib_sample_Exercise_answer.ipynb\r\n",
      "meetup009_2_Revival_PyData001_opendata.ipynb\r\n",
      "meetup009_2_Revival_PyData001_pandas_sample.ipynb\r\n",
      "meetup009_2_Revival_PyData001_pydata_chapter4.ipynb\r\n",
      "sample.csv\r\n",
      "sample.json\r\n",
      "sample2.csv\r\n",
      "sample_csv_file.png\r\n",
      "sample_graph.jpg\r\n",
      "sample_json_file.png\r\n",
      "standing_on_the_shoulders_of_Giants-Copy1.jpeg\r\n",
      "standing_on_the_shoulders_of_Giants.jpeg\r\n"
     ]
    }
   ],
   "source": [
    "#シェルコマンドも使える\n",
    "!ls"
   ]
  },
  {
   "cell_type": "code",
   "execution_count": 23,
   "metadata": {
    "slideshow": {
     "slide_type": "fragment"
    }
   },
   "outputs": [
    {
     "data": {
      "text/plain": [
       "{'TERM_PROGRAM': 'iTerm.app',\n",
       " 'TERM': 'xterm-color',\n",
       " 'SHELL': '/bin/bash',\n",
       " 'TMPDIR': '/var/folders/kl/7wtp58351z3ddpk93bggp8g80000gp/T/',\n",
       " 'CONDA_SHLVL': '2',\n",
       " 'Apple_PubSub_Socket_Render': '/private/tmp/com.apple.launchd.SDDjIyF4xY/Render',\n",
       " 'CONDA_PROMPT_MODIFIER': '(pythonbeginners) ',\n",
       " 'TERM_PROGRAM_VERSION': '3.2.0',\n",
       " 'OLDPWD': '/Users/nakazawa/Projects/PythonBeginners/meetup009_2_Revival_PyData001',\n",
       " 'TERM_SESSION_ID': 'w0t1p0:CC65EE33-A559-437D-903F-C3EAF607F6A2',\n",
       " 'USER': 'nakazawa',\n",
       " 'CONDA_EXE': '/Users/nakazawa/anaconda3/bin/conda',\n",
       " 'SSH_AUTH_SOCK': '/private/tmp/com.apple.launchd.EuGt9fhfA5/Listeners',\n",
       " '__CF_USER_TEXT_ENCODING': '0x0:1:14',\n",
       " 'CONDA_PREFIX_1': '/Users/nakazawa/anaconda3/envs/buckmoon',\n",
       " 'PATH': '/Users/nakazawa/anaconda3/envs/pythonbeginners/bin:/Users/nakazawa/anaconda3/envs/pythonbeginners/bin:/Users/nakazawa/.rbenv/shims:/usr/local/opt/libxml2/bin:/usr/local/opt/libiconv/bin:/usr/local/opt/libxslt/bin:/usr/local/opt/expat/bin:/Users/nakazawa/anaconda3/envs/buckmoon/bin:/Users/nakazawa/anaconda3/bin:/usr/local:/sw2/bin:/usr/local/bin:/usr/bin:/bin:/usr/sbin:/sbin:/opt/X11/bin',\n",
       " 'CONDA_PREFIX': '/Users/nakazawa/anaconda3/envs/pythonbeginners',\n",
       " 'JAVA': '/Library/Java/JavaVirtualMachines/jdk-10.0.1.jdk/Contents/Home/bin',\n",
       " 'PWD': '/Users/nakazawa/Projects/PythonBeginners/meetup009_2_Revival_PyData001/jupyter',\n",
       " 'JAVA_HOME': '/Library/Java/JavaVirtualMachines/jdk-10.0.1.jdk/Contents/Home',\n",
       " 'LANG': 'ja_JP.UTF-8',\n",
       " 'ITERM_PROFILE': 'Default',\n",
       " 'XPC_FLAGS': '0x0',\n",
       " 'XPC_SERVICE_NAME': '0',\n",
       " 'SHLVL': '1',\n",
       " 'HOME': '/Users/nakazawa',\n",
       " 'COLORFGBG': '7;0',\n",
       " 'ITERM_SESSION_ID': 'w0t1p0:CC65EE33-A559-437D-903F-C3EAF607F6A2',\n",
       " 'CONDA_PYTHON_EXE': '/Users/nakazawa/anaconda3/bin/python',\n",
       " 'LOGNAME': 'nakazawa',\n",
       " 'CONDA_DEFAULT_ENV': 'pythonbeginners',\n",
       " 'DISPLAY': '/private/tmp/com.apple.launchd.rwbINSXjZF/org.macosforge.xquartz:0',\n",
       " 'COLORTERM': 'truecolor',\n",
       " '_': '/Users/nakazawa/anaconda3/envs/pythonbeginners/bin/jupyter',\n",
       " 'JPY_PARENT_PID': '50666',\n",
       " 'CLICOLOR': '1',\n",
       " 'PAGER': 'cat',\n",
       " 'GIT_PAGER': 'cat',\n",
       " 'MPLBACKEND': 'module://ipykernel.pylab.backend_inline'}"
      ]
     },
     "execution_count": 23,
     "metadata": {},
     "output_type": "execute_result"
    }
   ],
   "source": [
    "#環境変数一覧\n",
    "%env"
   ]
  },
  {
   "cell_type": "code",
   "execution_count": 33,
   "metadata": {
    "slideshow": {
     "slide_type": "slide"
    }
   },
   "outputs": [],
   "source": [
    "#Magic Functionsがわからなくなったらこれ！\n",
    "%quickref"
   ]
  },
  {
   "cell_type": "code",
   "execution_count": 34,
   "metadata": {},
   "outputs": [],
   "source": [
    "%ldir"
   ]
  },
  {
   "cell_type": "code",
   "execution_count": 35,
   "metadata": {
    "slideshow": {
     "slide_type": "fragment"
    }
   },
   "outputs": [
    {
     "name": "stdout",
     "output_type": "stream",
     "text": [
      "/bin/sh: dir: command not found\r\n"
     ]
    }
   ],
   "source": [
    "#環境によっては動かない(エラーメッセージが出る)かも\n",
    "!dir"
   ]
  },
  {
   "cell_type": "code",
   "execution_count": 36,
   "metadata": {
    "slideshow": {
     "slide_type": "fragment"
    }
   },
   "outputs": [
    {
     "name": "stdout",
     "output_type": "stream",
     "text": [
      "total 1744\r\n",
      "drwxr-xr-x  19 nakazawa  staff     608  8 10 21:48 \u001b[34m.\u001b[m\u001b[m\r\n",
      "drwxr-xr-x   8 nakazawa  staff     256  8 10 15:51 \u001b[34m..\u001b[m\u001b[m\r\n",
      "-rw-r--r--@  1 nakazawa  staff    6148  8 10 14:30 .DS_Store\r\n",
      "drwxr-xr-x   7 nakazawa  staff     224  8 10 21:27 \u001b[34m.ipynb_checkpoints\u001b[m\u001b[m\r\n",
      "-rw-r--r--   1 nakazawa  staff   96358  8 10 15:51 Diagram-of-the-KD-tree-structure.png\r\n",
      "-rw-r--r--   1 nakazawa  staff   11206  8 10 15:51 KDtree.png\r\n",
      "-rw-r--r--   1 nakazawa  staff   45281  8 10 21:32 meetup009_2_Revival_PyData001_matplotlib_sample.ipynb\r\n",
      "-rw-r--r--   1 nakazawa  staff  282390  8 10 21:31 meetup009_2_Revival_PyData001_matplotlib_sample_Exercise_answer.ipynb\r\n",
      "-rw-r--r--   1 nakazawa  staff  115217  8 10 21:24 meetup009_2_Revival_PyData001_opendata.ipynb\r\n",
      "-rw-r--r--   1 nakazawa  staff   29071  8 10 21:35 meetup009_2_Revival_PyData001_pandas_sample.ipynb\r\n",
      "-rw-r--r--   1 nakazawa  staff   96215  8 10 21:48 meetup009_2_Revival_PyData001_pydata_chapter4.ipynb\r\n",
      "-rw-r--r--   1 nakazawa  staff      71  8 10 15:51 sample.csv\r\n",
      "-rw-r--r--   1 nakazawa  staff     149  8 10 18:19 sample.json\r\n",
      "-rw-r--r--   1 nakazawa  staff     147  8 10 15:51 sample2.csv\r\n",
      "-rw-r--r--   1 nakazawa  staff   18697  8 10 20:25 sample_csv_file.png\r\n",
      "-rw-r--r--   1 nakazawa  staff   41511  8 10 15:51 sample_graph.jpg\r\n",
      "-rw-r--r--   1 nakazawa  staff   24197  8 10 20:25 sample_json_file.png\r\n",
      "-rw-r--r--   1 nakazawa  staff   41505  8 10 21:26 standing_on_the_shoulders_of_Giants-Copy1.jpeg\r\n",
      "-rw-r--r--   1 nakazawa  staff   41505  8 10 20:25 standing_on_the_shoulders_of_Giants.jpeg\r\n"
     ]
    }
   ],
   "source": [
    "#OS依存のコードを書く時は注意が必要\n",
    "!ls -la"
   ]
  },
  {
   "cell_type": "markdown",
   "metadata": {
    "collapsed": true,
    "slideshow": {
     "slide_type": "slide"
    }
   },
   "source": [
    "# N次元配列操作ライブラリ numpyの基礎"
   ]
  },
  {
   "cell_type": "code",
   "execution_count": 37,
   "metadata": {
    "slideshow": {
     "slide_type": "fragment"
    }
   },
   "outputs": [],
   "source": [
    "#numpyのインポート\n",
    "import numpy"
   ]
  },
  {
   "cell_type": "code",
   "execution_count": 38,
   "metadata": {
    "slideshow": {
     "slide_type": "fragment"
    }
   },
   "outputs": [
    {
     "data": {
      "text/plain": [
       "array([1, 2, 3])"
      ]
     },
     "execution_count": 38,
     "metadata": {},
     "output_type": "execute_result"
    }
   ],
   "source": [
    "#array（配列の生成）\n",
    "numpy.array([1,2,3])\n",
    "#鍵カッコを忘れずに！！\n",
    "#numpy.array(1,2,3)"
   ]
  },
  {
   "cell_type": "code",
   "execution_count": 39,
   "metadata": {
    "slideshow": {
     "slide_type": "fragment"
    }
   },
   "outputs": [
    {
     "name": "stdout",
     "output_type": "stream",
     "text": [
      "[[1 3]\n",
      " [2 4]]\n"
     ]
    }
   ],
   "source": [
    "# 多次元配列\n",
    "a = numpy.array([[1, 3], [2, 4]])\n",
    "print(a)"
   ]
  },
  {
   "cell_type": "code",
   "execution_count": 40,
   "metadata": {
    "slideshow": {
     "slide_type": "fragment"
    }
   },
   "outputs": [
    {
     "name": "stdout",
     "output_type": "stream",
     "text": [
      "3\n",
      "[1 3]\n"
     ]
    }
   ],
   "source": [
    "#　配列要素の抽出\n",
    "print(a[0][1])\n",
    "print(a[0])"
   ]
  },
  {
   "cell_type": "markdown",
   "metadata": {
    "slideshow": {
     "slide_type": "slide"
    }
   },
   "source": [
    "# N次元配列操作ライブラリ numpyの基礎\n",
    "## 配列要素同士で四則演算もできる"
   ]
  },
  {
   "cell_type": "code",
   "execution_count": 41,
   "metadata": {
    "slideshow": {
     "slide_type": "fragment"
    }
   },
   "outputs": [
    {
     "name": "stdout",
     "output_type": "stream",
     "text": [
      "x=\n",
      " [[1 2]\n",
      " [3 4]]\n",
      "y=\n",
      " [[5 6]\n",
      " [7 8]]\n"
     ]
    }
   ],
   "source": [
    "x = numpy.array([[1,2], [3,4]])\n",
    "y = numpy.array([[5,6], [7,8]])\n",
    "print(\"x=\\n\",x)\n",
    "print(\"y=\\n\",y)"
   ]
  },
  {
   "cell_type": "code",
   "execution_count": 42,
   "metadata": {
    "slideshow": {
     "slide_type": "fragment"
    }
   },
   "outputs": [
    {
     "name": "stdout",
     "output_type": "stream",
     "text": [
      "[[ 6  8]\n",
      " [10 12]]\n"
     ]
    }
   ],
   "source": [
    "added_array = x + y\n",
    "print(added_array)"
   ]
  },
  {
   "cell_type": "code",
   "execution_count": 43,
   "metadata": {
    "slideshow": {
     "slide_type": "fragment"
    }
   },
   "outputs": [
    {
     "name": "stdout",
     "output_type": "stream",
     "text": [
      "[[12 16]\n",
      " [20 24]]\n"
     ]
    }
   ],
   "source": [
    "print(2*added_array)"
   ]
  },
  {
   "cell_type": "markdown",
   "metadata": {
    "collapsed": true,
    "slideshow": {
     "slide_type": "slide"
    }
   },
   "source": [
    "# N次元配列操作ライブラリ numpyの基礎\n",
    "## numpyで標準偏差"
   ]
  },
  {
   "cell_type": "code",
   "execution_count": 44,
   "metadata": {
    "slideshow": {
     "slide_type": "fragment"
    }
   },
   "outputs": [
    {
     "data": {
      "text/plain": [
       "array([80, 70, 65, 82, 90])"
      ]
     },
     "execution_count": 44,
     "metadata": {},
     "output_type": "execute_result"
    }
   ],
   "source": [
    "#配列を定義\n",
    "score = numpy.array([80, 70, 65, 82, 90])\n",
    "score"
   ]
  },
  {
   "cell_type": "code",
   "execution_count": 45,
   "metadata": {
    "slideshow": {
     "slide_type": "fragment"
    }
   },
   "outputs": [
    {
     "data": {
      "text/plain": [
       "8.890444308357146"
      ]
     },
     "execution_count": 45,
     "metadata": {},
     "output_type": "execute_result"
    }
   ],
   "source": [
    "#standard deviation（標準偏差）の略？\n",
    "numpy.std(score)"
   ]
  },
  {
   "cell_type": "code",
   "execution_count": 46,
   "metadata": {
    "slideshow": {
     "slide_type": "fragment"
    }
   },
   "outputs": [
    {
     "name": "stdout",
     "output_type": "stream",
     "text": [
      "標準偏差 12.535663410560174\n",
      "平均 80.0\n"
     ]
    }
   ],
   "source": [
    "#scoreの中身を変えて、標準偏差を見てみよう\n",
    "score = numpy.array([95, 74, 67, 72, 99, 87, 66])\n",
    "print(\"標準偏差\",numpy.std(score))\n",
    "print(\"平均\",numpy.sum(score)/len(score))"
   ]
  },
  {
   "cell_type": "code",
   "execution_count": 47,
   "metadata": {
    "slideshow": {
     "slide_type": "fragment"
    }
   },
   "outputs": [
    {
     "name": "stdout",
     "output_type": "stream",
     "text": [
      "標準偏差 0.0\n",
      "平均 80.0\n"
     ]
    }
   ],
   "source": [
    "score = numpy.array([80, 80, 80, 80, 80, 80, 80])\n",
    "print(\"標準偏差\",numpy.std(score))\n",
    "print(\"平均\",numpy.sum(score)/len(score))"
   ]
  },
  {
   "cell_type": "markdown",
   "metadata": {
    "collapsed": true,
    "slideshow": {
     "slide_type": "slide"
    }
   },
   "source": [
    "## 科学計算ライブラリ scipy"
   ]
  },
  {
   "cell_type": "markdown",
   "metadata": {
    "slideshow": {
     "slide_type": "slide"
    }
   },
   "source": [
    "## 科学計算ライブラリ scipy\n",
    "### ２点の間の距離を求めてみよう"
   ]
  },
  {
   "cell_type": "code",
   "execution_count": 48,
   "metadata": {
    "slideshow": {
     "slide_type": "fragment"
    }
   },
   "outputs": [],
   "source": [
    "#scipy(モジュール)に含まれるdistanceオブジェクトを指定\n",
    "from scipy.spatial import distance"
   ]
  },
  {
   "cell_type": "code",
   "execution_count": 49,
   "metadata": {
    "slideshow": {
     "slide_type": "fragment"
    }
   },
   "outputs": [],
   "source": [
    "# データを作成\n",
    "x = [1,2,3]\n",
    "y = [1,1,2]"
   ]
  },
  {
   "cell_type": "code",
   "execution_count": 50,
   "metadata": {
    "slideshow": {
     "slide_type": "fragment"
    }
   },
   "outputs": [
    {
     "data": {
      "text/plain": [
       "1.4142135623730951"
      ]
     },
     "execution_count": 50,
     "metadata": {},
     "output_type": "execute_result"
    }
   ],
   "source": [
    "# ユークリッド幾何距離を求めます\n",
    "distance.euclidean(x, y)"
   ]
  },
  {
   "cell_type": "markdown",
   "metadata": {
    "collapsed": true,
    "slideshow": {
     "slide_type": "slide"
    }
   },
   "source": [
    "## 科学計算ライブラリ scipy\n",
    "### 定数"
   ]
  },
  {
   "cell_type": "code",
   "execution_count": 51,
   "metadata": {
    "slideshow": {
     "slide_type": "fragment"
    }
   },
   "outputs": [],
   "source": [
    "#constants(定数)！\n",
    "import scipy.constants"
   ]
  },
  {
   "cell_type": "code",
   "execution_count": 52,
   "metadata": {
    "slideshow": {
     "slide_type": "fragment"
    }
   },
   "outputs": [
    {
     "data": {
      "text/plain": [
       "3.141592653589793"
      ]
     },
     "execution_count": 52,
     "metadata": {},
     "output_type": "execute_result"
    }
   ],
   "source": [
    "#円周率\n",
    "scipy.constants.pi"
   ]
  },
  {
   "cell_type": "code",
   "execution_count": 53,
   "metadata": {
    "slideshow": {
     "slide_type": "fragment"
    }
   },
   "outputs": [
    {
     "data": {
      "text/plain": [
       "9.80665"
      ]
     },
     "execution_count": 53,
     "metadata": {},
     "output_type": "execute_result"
    }
   ],
   "source": [
    "#重力加速度\n",
    "scipy.constants.g"
   ]
  },
  {
   "cell_type": "code",
   "execution_count": 54,
   "metadata": {
    "slideshow": {
     "slide_type": "fragment"
    }
   },
   "outputs": [
    {
     "data": {
      "text/plain": [
       "1.618033988749895"
      ]
     },
     "execution_count": 54,
     "metadata": {},
     "output_type": "execute_result"
    }
   ],
   "source": [
    "#黄金比\n",
    "scipy.constants.golden_ratio"
   ]
  },
  {
   "cell_type": "code",
   "execution_count": 59,
   "metadata": {},
   "outputs": [
    {
     "ename": "SyntaxError",
     "evalue": "invalid syntax (<ipython-input-59-f581277991a6>, line 2)",
     "output_type": "error",
     "traceback": [
      "\u001b[0;36m  File \u001b[0;32m\"<ipython-input-59-f581277991a6>\"\u001b[0;36m, line \u001b[0;32m2\u001b[0m\n\u001b[0;31m    scipy.constants.\u001b[0m\n\u001b[0m                    ^\u001b[0m\n\u001b[0;31mSyntaxError\u001b[0m\u001b[0;31m:\u001b[0m invalid syntax\n"
     ]
    }
   ],
   "source": [
    "#↓の行末にカーソルを持っていってTABキーを押すと、定数一覧が見れます。\n",
    "scipy.constants.\n",
    "#もしくはこちらにアクセス→[https://docs.scipy.org/doc/scipy-0.18.1/reference/constants.html]"
   ]
  },
  {
   "cell_type": "markdown",
   "metadata": {
    "collapsed": true,
    "slideshow": {
     "slide_type": "slide"
    }
   },
   "source": [
    "## 科学計算ライブラリ scipy\n",
    "\n",
    "## 最近傍探索(scipy.spatial.KDTree)\n",
    "### 最近傍探索とは？\n",
    "<img src=\"./KDtree.png\" width=\"600\">"
   ]
  },
  {
   "cell_type": "markdown",
   "metadata": {
    "slideshow": {
     "slide_type": "slide"
    }
   },
   "source": [
    "## 科学計算ライブラリ scipy\n",
    "\n",
    "## 最近傍探索(scipy.spatial.KDTree)\n",
    "### 最近傍探索とは？\n",
    "距離空間における最も近い点を探す最適化問題の一種、あるいはその解法。by Wikipedia先生<br>\n",
    "( ´・д・)ﾝ？\n",
    "<img src=\"./KDtree.png\" width=\"600\">"
   ]
  },
  {
   "cell_type": "markdown",
   "metadata": {
    "slideshow": {
     "slide_type": "notes"
    }
   },
   "source": [
    "このグラフのようにたくさんの点があった時に、特定の点（赤い点）に最も近い点を探す手法です。<br>\n",
    "例えば、「新しいラーメン屋さんができた時に、そのラーメンが自分の好みに合うかどうかを知りたい」ケースを考えます。上記のグラフの横軸を麺の長さ、縦軸を麺の太さだとすると、それぞれのお店はこのグラフのようにプロットできます。<br>\n",
    "自分の好みの店と新しくできた店が近いのであれば、新しい店も自分好みである可能性が高いと言えます。<br>\n",
    "このように、既存の物と新しい物の特徴量を距離として扱い、最も近い物を見つける、という問題や手法を最近傍探索と呼び、機械学習の分野で良く使われています。<br>\n",
    "KDTreeはその最近傍探索手法の一つで、全探索を行うより少ない計算量で最近傍探索を行うことができます。"
   ]
  },
  {
   "cell_type": "markdown",
   "metadata": {
    "slideshow": {
     "slide_type": "slide"
    }
   },
   "source": [
    "## KDTreeについて\n",
    "<img src=\"./Diagram-of-the-KD-tree-structure.png\" width=\"1400\">\n",
    "\n",
    "### 全探索を行うと9回、KDTreeなら最大3回の比較で済む"
   ]
  },
  {
   "cell_type": "markdown",
   "metadata": {
    "slideshow": {
     "slide_type": "slide"
    }
   },
   "source": [
    "# 早速やってみよう"
   ]
  },
  {
   "cell_type": "code",
   "execution_count": 67,
   "metadata": {
    "slideshow": {
     "slide_type": "fragment"
    }
   },
   "outputs": [],
   "source": [
    "## KDTreeモジュールをインポートします。\n",
    "from scipy.spatial import KDTree"
   ]
  },
  {
   "cell_type": "markdown",
   "metadata": {
    "slideshow": {
     "slide_type": "slide"
    }
   },
   "source": [
    "# 早速やってみよう\n",
    "## 元になるデータを作成\n",
    "### 最大64、最小0の値を持つ 2次元データを256点、検索用の点を1点作成\n"
   ]
  },
  {
   "cell_type": "code",
   "execution_count": 68,
   "metadata": {
    "slideshow": {
     "slide_type": "fragment"
    }
   },
   "outputs": [
    {
     "name": "stdout",
     "output_type": "stream",
     "text": [
      "[[ 2  2]\n",
      " [ 5 16]\n",
      " [ 9 16]\n",
      " [ 4  9]\n",
      " [38  3]\n",
      " [40 26]\n",
      " [35 49]\n",
      " [ 6 26]\n",
      " [53  1]\n",
      " [ 6 63]\n",
      " [25 14]\n",
      " [43 12]\n",
      " [ 6  6]\n",
      " [22 45]\n",
      " [12 53]\n",
      " [46 10]\n",
      " [60 55]\n",
      " [43 56]\n",
      " [38 59]\n",
      " [62  4]\n",
      " [38 29]\n",
      " [15 41]\n",
      " [ 3 11]\n",
      " [41 34]\n",
      " [62 28]\n",
      " [ 4 59]\n",
      " [62  9]\n",
      " [26 50]\n",
      " [29 28]\n",
      " [44  0]\n",
      " [10 22]\n",
      " [59 26]\n",
      " [33 10]\n",
      " [ 4 62]\n",
      " [ 9 37]\n",
      " [24  4]\n",
      " [17 60]\n",
      " [48 27]\n",
      " [59 59]\n",
      " [ 1 53]\n",
      " [14  1]\n",
      " [ 8 13]\n",
      " [44 25]\n",
      " [56 59]\n",
      " [43 51]\n",
      " [ 0  2]\n",
      " [31 59]\n",
      " [60 53]\n",
      " [59 26]\n",
      " [ 8 53]\n",
      " [30 32]\n",
      " [48 49]\n",
      " [38 36]\n",
      " [29 38]\n",
      " [25  1]\n",
      " [ 9 10]\n",
      " [29 45]\n",
      " [10 46]\n",
      " [37 45]\n",
      " [29 13]\n",
      " [ 8  1]\n",
      " [22 23]\n",
      " [ 8 56]\n",
      " [29 52]\n",
      " [ 7 22]\n",
      " [ 4 11]\n",
      " [30 12]\n",
      " [20  6]\n",
      " [60  1]\n",
      " [20 48]\n",
      " [ 7 58]\n",
      " [28 13]\n",
      " [30 56]\n",
      " [51 59]\n",
      " [39 43]\n",
      " [47 11]\n",
      " [59 25]\n",
      " [39 50]\n",
      " [39 15]\n",
      " [22 53]\n",
      " [26  7]\n",
      " [59 41]\n",
      " [49 58]\n",
      " [53 40]\n",
      " [50 36]\n",
      " [ 1 58]\n",
      " [13 61]\n",
      " [44 40]\n",
      " [34  4]\n",
      " [ 7 36]\n",
      " [ 8 15]\n",
      " [38  9]\n",
      " [24 33]\n",
      " [18 30]\n",
      " [22 54]\n",
      " [22 40]\n",
      " [26 29]\n",
      " [ 1 17]\n",
      " [21 20]\n",
      " [ 6  3]\n",
      " [54 23]\n",
      " [ 3 26]\n",
      " [14 52]\n",
      " [40 43]\n",
      " [26 16]\n",
      " [59 42]\n",
      " [ 6  9]\n",
      " [23 49]\n",
      " [58 54]\n",
      " [ 2 15]\n",
      " [16  2]\n",
      " [47  9]\n",
      " [11 17]\n",
      " [39 49]\n",
      " [19 21]\n",
      " [54 44]\n",
      " [31 30]\n",
      " [53 41]\n",
      " [ 3 31]\n",
      " [60 56]\n",
      " [27 14]\n",
      " [ 4 50]\n",
      " [15 56]\n",
      " [62 43]\n",
      " [51  2]\n",
      " [17 54]\n",
      " [31 37]\n",
      " [37 61]\n",
      " [58 29]\n",
      " [52 63]\n",
      " [14 27]\n",
      " [60 63]\n",
      " [24 25]\n",
      " [54 27]\n",
      " [ 9 44]\n",
      " [48 62]\n",
      " [49 57]\n",
      " [48 53]\n",
      " [48 15]\n",
      " [34 62]\n",
      " [51 10]\n",
      " [40 17]\n",
      " [50 48]\n",
      " [61 11]\n",
      " [38 18]\n",
      " [19 19]\n",
      " [15 57]\n",
      " [27  8]\n",
      " [57 63]\n",
      " [14 48]\n",
      " [16 39]\n",
      " [52 58]\n",
      " [17 41]\n",
      " [28 35]\n",
      " [43 46]\n",
      " [61 59]\n",
      " [61 62]\n",
      " [36 34]\n",
      " [57 21]\n",
      " [42 51]\n",
      " [33  3]\n",
      " [55 42]\n",
      " [13 36]\n",
      " [35  7]\n",
      " [ 2 47]\n",
      " [51 29]\n",
      " [51 56]\n",
      " [54 25]\n",
      " [54 52]\n",
      " [46  7]\n",
      " [ 0 20]\n",
      " [ 4 38]\n",
      " [14  6]\n",
      " [ 6 55]\n",
      " [16 43]\n",
      " [63 50]\n",
      " [58 33]\n",
      " [25 16]\n",
      " [24  8]\n",
      " [41 61]\n",
      " [20  7]\n",
      " [44 38]\n",
      " [27 45]\n",
      " [61  8]\n",
      " [16 50]\n",
      " [ 4 22]\n",
      " [22 54]\n",
      " [26 43]\n",
      " [53 25]\n",
      " [51  9]\n",
      " [ 3 35]\n",
      " [56 52]\n",
      " [25 57]\n",
      " [ 4 51]\n",
      " [ 3 52]\n",
      " [38 13]\n",
      " [ 9 40]\n",
      " [ 5  1]\n",
      " [39 36]\n",
      " [45 47]\n",
      " [ 9 40]\n",
      " [35 36]\n",
      " [ 3 13]\n",
      " [14 19]\n",
      " [15 41]\n",
      " [38 28]\n",
      " [33 33]\n",
      " [12  0]\n",
      " [41 21]\n",
      " [35 33]\n",
      " [30 50]\n",
      " [ 5 38]\n",
      " [21 29]\n",
      " [12 27]\n",
      " [51 48]\n",
      " [26 16]\n",
      " [62 14]\n",
      " [63 30]\n",
      " [24 10]\n",
      " [29 58]\n",
      " [33 15]\n",
      " [44 35]\n",
      " [40 17]\n",
      " [51 55]\n",
      " [42  4]\n",
      " [39  3]\n",
      " [42 39]\n",
      " [63 24]\n",
      " [48 20]\n",
      " [ 6 62]\n",
      " [24 26]\n",
      " [27 36]\n",
      " [46 62]\n",
      " [48 26]\n",
      " [17 47]\n",
      " [25 25]\n",
      " [55  5]\n",
      " [ 0  3]\n",
      " [34 59]\n",
      " [29 55]\n",
      " [26 30]\n",
      " [59 16]\n",
      " [50  2]\n",
      " [14 52]\n",
      " [60  7]\n",
      " [57 23]\n",
      " [38 61]\n",
      " [28 34]\n",
      " [23 51]\n",
      " [44 37]\n",
      " [39  2]\n",
      " [28 12]\n",
      " [ 1 23]\n",
      " [15 16]\n",
      " [41 55]\n",
      " [38  7]]\n"
     ]
    }
   ],
   "source": [
    "import numpy as np\n",
    "point_num = 256\n",
    "dimention = 2\n",
    "range_min = 0\n",
    "range_max = 64\n",
    "\n",
    "points = np.random.randint(range_min, range_max, (point_num, dimention))\n",
    "\n",
    "new_point = (55,55)\n",
    "\n",
    "print(points)"
   ]
  },
  {
   "cell_type": "markdown",
   "metadata": {
    "slideshow": {
     "slide_type": "slide"
    }
   },
   "source": [
    "# 早速やってみよう\n",
    "\n",
    "## 今作ったデータを可視化"
   ]
  },
  {
   "cell_type": "code",
   "execution_count": 69,
   "metadata": {
    "slideshow": {
     "slide_type": "fragment"
    }
   },
   "outputs": [
    {
     "data": {
      "image/png": "[encoded data removed]",
      "text/plain": [
       "<Figure size 936x936 with 1 Axes>"
      ]
     },
     "metadata": {},
     "output_type": "display_data"
    }
   ],
   "source": [
    "# 可視化は後ほど詳しくお話するので、今は気にしないでください\n",
    "from matplotlib import pyplot\n",
    "pyplot.figure(figsize=(13, 13))\n",
    "pyplot.scatter(points[:, 0],points[:, 1])\n",
    "pyplot.scatter(new_point[0],new_point[1], c=\"red\", linewidths=\"10\")\n",
    "pyplot.show()"
   ]
  },
  {
   "cell_type": "markdown",
   "metadata": {
    "slideshow": {
     "slide_type": "slide"
    }
   },
   "source": [
    "# 早速やってみよう\n",
    "## KD木を作る"
   ]
  },
  {
   "cell_type": "code",
   "execution_count": 70,
   "metadata": {
    "slideshow": {
     "slide_type": "fragment"
    }
   },
   "outputs": [
    {
     "name": "stdout",
     "output_type": "stream",
     "text": [
      "[[ 2  2]\n",
      " [ 5 16]\n",
      " [ 9 16]\n",
      " [ 4  9]\n",
      " [38  3]\n",
      " [40 26]\n",
      " [35 49]\n",
      " [ 6 26]\n",
      " [53  1]\n",
      " [ 6 63]\n",
      " [25 14]\n",
      " [43 12]\n",
      " [ 6  6]\n",
      " [22 45]\n",
      " [12 53]\n",
      " [46 10]\n",
      " [60 55]\n",
      " [43 56]\n",
      " [38 59]\n",
      " [62  4]\n",
      " [38 29]\n",
      " [15 41]\n",
      " [ 3 11]\n",
      " [41 34]\n",
      " [62 28]\n",
      " [ 4 59]\n",
      " [62  9]\n",
      " [26 50]\n",
      " [29 28]\n",
      " [44  0]\n",
      " [10 22]\n",
      " [59 26]\n",
      " [33 10]\n",
      " [ 4 62]\n",
      " [ 9 37]\n",
      " [24  4]\n",
      " [17 60]\n",
      " [48 27]\n",
      " [59 59]\n",
      " [ 1 53]\n",
      " [14  1]\n",
      " [ 8 13]\n",
      " [44 25]\n",
      " [56 59]\n",
      " [43 51]\n",
      " [ 0  2]\n",
      " [31 59]\n",
      " [60 53]\n",
      " [59 26]\n",
      " [ 8 53]\n",
      " [30 32]\n",
      " [48 49]\n",
      " [38 36]\n",
      " [29 38]\n",
      " [25  1]\n",
      " [ 9 10]\n",
      " [29 45]\n",
      " [10 46]\n",
      " [37 45]\n",
      " [29 13]\n",
      " [ 8  1]\n",
      " [22 23]\n",
      " [ 8 56]\n",
      " [29 52]\n",
      " [ 7 22]\n",
      " [ 4 11]\n",
      " [30 12]\n",
      " [20  6]\n",
      " [60  1]\n",
      " [20 48]\n",
      " [ 7 58]\n",
      " [28 13]\n",
      " [30 56]\n",
      " [51 59]\n",
      " [39 43]\n",
      " [47 11]\n",
      " [59 25]\n",
      " [39 50]\n",
      " [39 15]\n",
      " [22 53]\n",
      " [26  7]\n",
      " [59 41]\n",
      " [49 58]\n",
      " [53 40]\n",
      " [50 36]\n",
      " [ 1 58]\n",
      " [13 61]\n",
      " [44 40]\n",
      " [34  4]\n",
      " [ 7 36]\n",
      " [ 8 15]\n",
      " [38  9]\n",
      " [24 33]\n",
      " [18 30]\n",
      " [22 54]\n",
      " [22 40]\n",
      " [26 29]\n",
      " [ 1 17]\n",
      " [21 20]\n",
      " [ 6  3]\n",
      " [54 23]\n",
      " [ 3 26]\n",
      " [14 52]\n",
      " [40 43]\n",
      " [26 16]\n",
      " [59 42]\n",
      " [ 6  9]\n",
      " [23 49]\n",
      " [58 54]\n",
      " [ 2 15]\n",
      " [16  2]\n",
      " [47  9]\n",
      " [11 17]\n",
      " [39 49]\n",
      " [19 21]\n",
      " [54 44]\n",
      " [31 30]\n",
      " [53 41]\n",
      " [ 3 31]\n",
      " [60 56]\n",
      " [27 14]\n",
      " [ 4 50]\n",
      " [15 56]\n",
      " [62 43]\n",
      " [51  2]\n",
      " [17 54]\n",
      " [31 37]\n",
      " [37 61]\n",
      " [58 29]\n",
      " [52 63]\n",
      " [14 27]\n",
      " [60 63]\n",
      " [24 25]\n",
      " [54 27]\n",
      " [ 9 44]\n",
      " [48 62]\n",
      " [49 57]\n",
      " [48 53]\n",
      " [48 15]\n",
      " [34 62]\n",
      " [51 10]\n",
      " [40 17]\n",
      " [50 48]\n",
      " [61 11]\n",
      " [38 18]\n",
      " [19 19]\n",
      " [15 57]\n",
      " [27  8]\n",
      " [57 63]\n",
      " [14 48]\n",
      " [16 39]\n",
      " [52 58]\n",
      " [17 41]\n",
      " [28 35]\n",
      " [43 46]\n",
      " [61 59]\n",
      " [61 62]\n",
      " [36 34]\n",
      " [57 21]\n",
      " [42 51]\n",
      " [33  3]\n",
      " [55 42]\n",
      " [13 36]\n",
      " [35  7]\n",
      " [ 2 47]\n",
      " [51 29]\n",
      " [51 56]\n",
      " [54 25]\n",
      " [54 52]\n",
      " [46  7]\n",
      " [ 0 20]\n",
      " [ 4 38]\n",
      " [14  6]\n",
      " [ 6 55]\n",
      " [16 43]\n",
      " [63 50]\n",
      " [58 33]\n",
      " [25 16]\n",
      " [24  8]\n",
      " [41 61]\n",
      " [20  7]\n",
      " [44 38]\n",
      " [27 45]\n",
      " [61  8]\n",
      " [16 50]\n",
      " [ 4 22]\n",
      " [22 54]\n",
      " [26 43]\n",
      " [53 25]\n",
      " [51  9]\n",
      " [ 3 35]\n",
      " [56 52]\n",
      " [25 57]\n",
      " [ 4 51]\n",
      " [ 3 52]\n",
      " [38 13]\n",
      " [ 9 40]\n",
      " [ 5  1]\n",
      " [39 36]\n",
      " [45 47]\n",
      " [ 9 40]\n",
      " [35 36]\n",
      " [ 3 13]\n",
      " [14 19]\n",
      " [15 41]\n",
      " [38 28]\n",
      " [33 33]\n",
      " [12  0]\n",
      " [41 21]\n",
      " [35 33]\n",
      " [30 50]\n",
      " [ 5 38]\n",
      " [21 29]\n",
      " [12 27]\n",
      " [51 48]\n",
      " [26 16]\n",
      " [62 14]\n",
      " [63 30]\n",
      " [24 10]\n",
      " [29 58]\n",
      " [33 15]\n",
      " [44 35]\n",
      " [40 17]\n",
      " [51 55]\n",
      " [42  4]\n",
      " [39  3]\n",
      " [42 39]\n",
      " [63 24]\n",
      " [48 20]\n",
      " [ 6 62]\n",
      " [24 26]\n",
      " [27 36]\n",
      " [46 62]\n",
      " [48 26]\n",
      " [17 47]\n",
      " [25 25]\n",
      " [55  5]\n",
      " [ 0  3]\n",
      " [34 59]\n",
      " [29 55]\n",
      " [26 30]\n",
      " [59 16]\n",
      " [50  2]\n",
      " [14 52]\n",
      " [60  7]\n",
      " [57 23]\n",
      " [38 61]\n",
      " [28 34]\n",
      " [23 51]\n",
      " [44 37]\n",
      " [39  2]\n",
      " [28 12]\n",
      " [ 1 23]\n",
      " [15 16]\n",
      " [41 55]\n",
      " [38  7]]\n"
     ]
    }
   ],
   "source": [
    "tree = KDTree(points)\n",
    "# .dataとすると中身が見れる\n",
    "print(tree.data)"
   ]
  },
  {
   "cell_type": "markdown",
   "metadata": {
    "slideshow": {
     "slide_type": "slide"
    }
   },
   "source": [
    "## 早速やってみよう\n",
    "### 実際に検索してみる"
   ]
  },
  {
   "cell_type": "code",
   "execution_count": 74,
   "metadata": {
    "slideshow": {
     "slide_type": "fragment"
    }
   },
   "outputs": [],
   "source": [
    "distance, number = tree.query(new_point)"
   ]
  },
  {
   "cell_type": "code",
   "execution_count": 75,
   "metadata": {
    "slideshow": {
     "slide_type": "fragment"
    }
   },
   "outputs": [
    {
     "name": "stdout",
     "output_type": "stream",
     "text": [
      "最近傍点のインデックス： 108\n",
      "新しい点 :  (55, 55) , 最近傍点： [58 54]\n",
      "新しい点 と 最近傍点の距離： 3.1622776601683795\n"
     ]
    }
   ],
   "source": [
    "print(\"最近傍点のインデックス：\",number)\n",
    "print(\"新しい点 : \", new_point,\", 最近傍点：\",points[number] )\n",
    "print(\"新しい点 と 最近傍点の距離：\", distance)"
   ]
  },
  {
   "cell_type": "code",
   "execution_count": 76,
   "metadata": {
    "slideshow": {
     "slide_type": "fragment"
    }
   },
   "outputs": [
    {
     "data": {
      "text/plain": [
       "<matplotlib.collections.PathCollection at 0x6174af278>"
      ]
     },
     "execution_count": 76,
     "metadata": {},
     "output_type": "execute_result"
    },
    {
     "data": {
      "image/png": "[encoded data removed]",
      "text/plain": [
       "<Figure size 1440x720 with 2 Axes>"
      ]
     },
     "metadata": {},
     "output_type": "display_data"
    }
   ],
   "source": [
    "from matplotlib import pyplot\n",
    "fig, (axL, axR) = pyplot.subplots(ncols=2, figsize=(20,10))\n",
    "\n",
    "axL.scatter(points[:, 0],points[:, 1])\n",
    "axL.scatter(new_point[0],new_point[1], c=\"red\", linewidths=\"20\")\n",
    "\n",
    "\n",
    "axR.scatter(points[:, 0],points[:, 1])\n",
    "axR.scatter(new_point[0],new_point[1], c=\"red\", linewidths=\"20\")\n",
    "axR.scatter(points[number, 0], points[number, 1], c=\"pink\", linewidths=\"20\")"
   ]
  },
  {
   "cell_type": "markdown",
   "metadata": {
    "slideshow": {
     "slide_type": "slide"
    }
   },
   "source": [
    "## 早速やってみよう\n",
    "### わかりにくいので拡大してみる"
   ]
  },
  {
   "cell_type": "code",
   "execution_count": 78,
   "metadata": {
    "slideshow": {
     "slide_type": "fragment"
    }
   },
   "outputs": [
    {
     "data": {
      "text/plain": [
       "(50, 60)"
      ]
     },
     "execution_count": 78,
     "metadata": {},
     "output_type": "execute_result"
    },
    {
     "data": {
      "image/png": "[encoded data removed]",
      "text/plain": [
       "<Figure size 1440x720 with 2 Axes>"
      ]
     },
     "metadata": {},
     "output_type": "display_data"
    }
   ],
   "source": [
    "from matplotlib import pyplot\n",
    "fig, (axL, axR) = pyplot.subplots(ncols=2, figsize=(20,10))\n",
    "\n",
    "axL.scatter(points[:, 0],points[:, 1])\n",
    "axL.scatter(new_point[0],new_point[1], c=\"red\", linewidths=\"20\")\n",
    "axL.set_xlim(50,60)\n",
    "axL.set_ylim(50,60)\n",
    "\n",
    "\n",
    "axR.scatter(points[:, 0],points[:, 1])\n",
    "axR.scatter(new_point[0],new_point[1], c=\"red\", linewidths=\"20\")\n",
    "axR.scatter(points[number, 0], points[number, 1], c=\"pink\", linewidths=\"20\")\n",
    "axR.set_xlim(50,60)\n",
    "axR.set_ylim(50,60)\n"
   ]
  },
  {
   "cell_type": "markdown",
   "metadata": {
    "slideshow": {
     "slide_type": "slide"
    }
   },
   "source": [
    "# このようにSciPyには機械学習に使える機能が沢山あります\n",
    "## なので、自分で作成する前に既に実装されていないか調べてみてください。\n",
    "<img src=\"./standing_on_the_shoulders_of_Giants.jpeg\" width=\"900\">\n",
    "\n",
    "## 巨人の肩に乗ろう！"
   ]
  }
 ],
 "metadata": {
  "celltoolbar": "Slideshow",
  "kernelspec": {
   "display_name": "Python 3",
   "language": "python",
   "name": "python3"
  },
  "language_info": {
   "codemirror_mode": {
    "name": "ipython",
    "version": 3
   },
   "file_extension": ".py",
   "mimetype": "text/x-python",
   "name": "python",
   "nbconvert_exporter": "python",
   "pygments_lexer": "ipython3",
   "version": "3.6.5"
  }
 },
 "nbformat": 4,
 "nbformat_minor": 1
}
