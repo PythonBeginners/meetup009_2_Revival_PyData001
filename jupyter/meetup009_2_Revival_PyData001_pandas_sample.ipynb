{
 "cells": [
  {
   "cell_type": "markdown",
   "metadata": {
    "slideshow": {
     "slide_type": "slide"
    }
   },
   "source": [
    "# データの加工や集計：pandas"
   ]
  },
  {
   "cell_type": "code",
   "execution_count": 2,
   "metadata": {
    "slideshow": {
     "slide_type": "fragment"
    }
   },
   "outputs": [],
   "source": [
    "#パッケージの読み込み\n",
    "import pandas as pd"
   ]
  },
  {
   "cell_type": "markdown",
   "metadata": {
    "slideshow": {
     "slide_type": "slide"
    }
   },
   "source": [
    "# データの加工や集計：pandas"
   ]
  },
  {
   "cell_type": "code",
   "execution_count": 9,
   "metadata": {
    "slideshow": {
     "slide_type": "fragment"
    }
   },
   "outputs": [
    {
     "data": {
      "text/html": [
       "<style  type=\"text/css\" >\n",
       "    #T_eb056d18_9ca0_11e8_aafa_8c8590a48775row0_col0 {\n",
       "            font-size:  50px;\n",
       "        }    #T_eb056d18_9ca0_11e8_aafa_8c8590a48775row0_col1 {\n",
       "            font-size:  50px;\n",
       "        }    #T_eb056d18_9ca0_11e8_aafa_8c8590a48775row0_col2 {\n",
       "            font-size:  50px;\n",
       "        }    #T_eb056d18_9ca0_11e8_aafa_8c8590a48775row1_col0 {\n",
       "            font-size:  50px;\n",
       "        }    #T_eb056d18_9ca0_11e8_aafa_8c8590a48775row1_col1 {\n",
       "            font-size:  50px;\n",
       "        }    #T_eb056d18_9ca0_11e8_aafa_8c8590a48775row1_col2 {\n",
       "            font-size:  50px;\n",
       "        }    #T_eb056d18_9ca0_11e8_aafa_8c8590a48775row2_col0 {\n",
       "            font-size:  50px;\n",
       "        }    #T_eb056d18_9ca0_11e8_aafa_8c8590a48775row2_col1 {\n",
       "            font-size:  50px;\n",
       "        }    #T_eb056d18_9ca0_11e8_aafa_8c8590a48775row2_col2 {\n",
       "            font-size:  50px;\n",
       "        }    #T_eb056d18_9ca0_11e8_aafa_8c8590a48775row3_col0 {\n",
       "            font-size:  50px;\n",
       "        }    #T_eb056d18_9ca0_11e8_aafa_8c8590a48775row3_col1 {\n",
       "            font-size:  50px;\n",
       "        }    #T_eb056d18_9ca0_11e8_aafa_8c8590a48775row3_col2 {\n",
       "            font-size:  50px;\n",
       "        }</style>  \n",
       "<table id=\"T_eb056d18_9ca0_11e8_aafa_8c8590a48775\" > \n",
       "<thead>    <tr> \n",
       "        <th class=\"blank level0\" ></th> \n",
       "        <th class=\"col_heading level0 col0\" >Win</th> \n",
       "        <th class=\"col_heading level0 col1\" >Draw</th> \n",
       "        <th class=\"col_heading level0 col2\" >Lose</th> \n",
       "    </tr>    <tr> \n",
       "        <th class=\"index_name level0\" >Team</th> \n",
       "        <th class=\"blank\" ></th> \n",
       "        <th class=\"blank\" ></th> \n",
       "        <th class=\"blank\" ></th> \n",
       "    </tr></thead> \n",
       "<tbody>    <tr> \n",
       "        <th id=\"T_eb056d18_9ca0_11e8_aafa_8c8590a48775level0_row0\" class=\"row_heading level0 row0\" >Japan</th> \n",
       "        <td id=\"T_eb056d18_9ca0_11e8_aafa_8c8590a48775row0_col0\" class=\"data row0 col0\" >3</td> \n",
       "        <td id=\"T_eb056d18_9ca0_11e8_aafa_8c8590a48775row0_col1\" class=\"data row0 col1\" >0</td> \n",
       "        <td id=\"T_eb056d18_9ca0_11e8_aafa_8c8590a48775row0_col2\" class=\"data row0 col2\" >0</td> \n",
       "    </tr>    <tr> \n",
       "        <th id=\"T_eb056d18_9ca0_11e8_aafa_8c8590a48775level0_row1\" class=\"row_heading level0 row1\" >Iraq</th> \n",
       "        <td id=\"T_eb056d18_9ca0_11e8_aafa_8c8590a48775row1_col0\" class=\"data row1 col0\" >2</td> \n",
       "        <td id=\"T_eb056d18_9ca0_11e8_aafa_8c8590a48775row1_col1\" class=\"data row1 col1\" >0</td> \n",
       "        <td id=\"T_eb056d18_9ca0_11e8_aafa_8c8590a48775row1_col2\" class=\"data row1 col2\" >1</td> \n",
       "    </tr>    <tr> \n",
       "        <th id=\"T_eb056d18_9ca0_11e8_aafa_8c8590a48775level0_row2\" class=\"row_heading level0 row2\" >Jordan</th> \n",
       "        <td id=\"T_eb056d18_9ca0_11e8_aafa_8c8590a48775row2_col0\" class=\"data row2 col0\" >1</td> \n",
       "        <td id=\"T_eb056d18_9ca0_11e8_aafa_8c8590a48775row2_col1\" class=\"data row2 col1\" >0</td> \n",
       "        <td id=\"T_eb056d18_9ca0_11e8_aafa_8c8590a48775row2_col2\" class=\"data row2 col2\" >2</td> \n",
       "    </tr>    <tr> \n",
       "        <th id=\"T_eb056d18_9ca0_11e8_aafa_8c8590a48775level0_row3\" class=\"row_heading level0 row3\" >Palestine</th> \n",
       "        <td id=\"T_eb056d18_9ca0_11e8_aafa_8c8590a48775row3_col0\" class=\"data row3 col0\" >0</td> \n",
       "        <td id=\"T_eb056d18_9ca0_11e8_aafa_8c8590a48775row3_col1\" class=\"data row3 col1\" >0</td> \n",
       "        <td id=\"T_eb056d18_9ca0_11e8_aafa_8c8590a48775row3_col2\" class=\"data row3 col2\" >3</td> \n",
       "    </tr></tbody> \n",
       "</table> "
      ],
      "text/plain": [
       "<pandas.io.formats.style.Styler at 0x10b3e1978>"
      ]
     },
     "execution_count": 9,
     "metadata": {},
     "output_type": "execute_result"
    }
   ],
   "source": [
    "# CSVファイルからデータフレームを作成する\n",
    "sample_dateframe = pd.read_csv('sample.csv', index_col=\"Team\")\n",
    "sample_dateframe.style.set_properties(**{'font-size': '{0}px'.format(50)})"
   ]
  },
  {
   "cell_type": "markdown",
   "metadata": {
    "slideshow": {
     "slide_type": "fragment"
    }
   },
   "source": [
    "<img src=\"./sample_csv_file.png\" width=\"600\">"
   ]
  },
  {
   "cell_type": "markdown",
   "metadata": {
    "slideshow": {
     "slide_type": "slide"
    }
   },
   "source": [
    "# データの加工や集計：pandas\n",
    "## いろいろな集計をやってみよう！"
   ]
  },
  {
   "cell_type": "code",
   "execution_count": 24,
   "metadata": {
    "slideshow": {
     "slide_type": "fragment"
    }
   },
   "outputs": [
    {
     "data": {
      "text/plain": [
       "Win     2\n",
       "Draw    0\n",
       "Lose    1\n",
       "Name: Iraq, dtype: int64"
      ]
     },
     "execution_count": 24,
     "metadata": {},
     "output_type": "execute_result"
    }
   ],
   "source": [
    "#抜き出す行をインデックスで指定する\n",
    "sample_dateframe.loc[\"Iraq\"]"
   ]
  },
  {
   "cell_type": "code",
   "execution_count": 45,
   "metadata": {
    "slideshow": {
     "slide_type": "fragment"
    }
   },
   "outputs": [
    {
     "data": {
      "text/plain": [
       "Team\n",
       "Japan        3\n",
       "Iraq         2\n",
       "Jordan       1\n",
       "Palestine    0\n",
       "Name: Win, dtype: int64"
      ]
     },
     "execution_count": 45,
     "metadata": {},
     "output_type": "execute_result"
    }
   ],
   "source": [
    "#どのチームが何回勝ったのか知りたいとき\n",
    "sample_dateframe['Win']"
   ]
  },
  {
   "cell_type": "code",
   "execution_count": 46,
   "metadata": {
    "slideshow": {
     "slide_type": "fragment"
    }
   },
   "outputs": [
    {
     "data": {
      "text/html": [
       "<style  type=\"text/css\" >\n",
       "    #T_d2357388_9ca2_11e8_8952_8c8590a48775row0_col0 {\n",
       "            font-size:  50px;\n",
       "        }    #T_d2357388_9ca2_11e8_8952_8c8590a48775row0_col1 {\n",
       "            font-size:  50px;\n",
       "        }    #T_d2357388_9ca2_11e8_8952_8c8590a48775row0_col2 {\n",
       "            font-size:  50px;\n",
       "        }    #T_d2357388_9ca2_11e8_8952_8c8590a48775row1_col0 {\n",
       "            font-size:  50px;\n",
       "        }    #T_d2357388_9ca2_11e8_8952_8c8590a48775row1_col1 {\n",
       "            font-size:  50px;\n",
       "        }    #T_d2357388_9ca2_11e8_8952_8c8590a48775row1_col2 {\n",
       "            font-size:  50px;\n",
       "        }</style>  \n",
       "<table id=\"T_d2357388_9ca2_11e8_8952_8c8590a48775\" > \n",
       "<thead>    <tr> \n",
       "        <th class=\"blank level0\" ></th> \n",
       "        <th class=\"col_heading level0 col0\" >Win</th> \n",
       "        <th class=\"col_heading level0 col1\" >Draw</th> \n",
       "        <th class=\"col_heading level0 col2\" >Lose</th> \n",
       "    </tr>    <tr> \n",
       "        <th class=\"index_name level0\" >Team</th> \n",
       "        <th class=\"blank\" ></th> \n",
       "        <th class=\"blank\" ></th> \n",
       "        <th class=\"blank\" ></th> \n",
       "    </tr></thead> \n",
       "<tbody>    <tr> \n",
       "        <th id=\"T_d2357388_9ca2_11e8_8952_8c8590a48775level0_row0\" class=\"row_heading level0 row0\" >Japan</th> \n",
       "        <td id=\"T_d2357388_9ca2_11e8_8952_8c8590a48775row0_col0\" class=\"data row0 col0\" >3</td> \n",
       "        <td id=\"T_d2357388_9ca2_11e8_8952_8c8590a48775row0_col1\" class=\"data row0 col1\" >0</td> \n",
       "        <td id=\"T_d2357388_9ca2_11e8_8952_8c8590a48775row0_col2\" class=\"data row0 col2\" >0</td> \n",
       "    </tr>    <tr> \n",
       "        <th id=\"T_d2357388_9ca2_11e8_8952_8c8590a48775level0_row1\" class=\"row_heading level0 row1\" >Iraq</th> \n",
       "        <td id=\"T_d2357388_9ca2_11e8_8952_8c8590a48775row1_col0\" class=\"data row1 col0\" >2</td> \n",
       "        <td id=\"T_d2357388_9ca2_11e8_8952_8c8590a48775row1_col1\" class=\"data row1 col1\" >0</td> \n",
       "        <td id=\"T_d2357388_9ca2_11e8_8952_8c8590a48775row1_col2\" class=\"data row1 col2\" >1</td> \n",
       "    </tr></tbody> \n",
       "</table> "
      ],
      "text/plain": [
       "<pandas.io.formats.style.Styler at 0x10b521278>"
      ]
     },
     "execution_count": 46,
     "metadata": {},
     "output_type": "execute_result"
    }
   ],
   "source": [
    "#2回以上勝ったチームを知りたいとき\n",
    "sample_dateframe[sample_dateframe.Win>=2].style.set_properties(**{'font-size': '{0}px'.format(50)})"
   ]
  },
  {
   "cell_type": "markdown",
   "metadata": {
    "slideshow": {
     "slide_type": "slide"
    }
   },
   "source": [
    "# データの加工や集計：pandas\n",
    "## いろいろな集計をやってみよう！"
   ]
  },
  {
   "cell_type": "code",
   "execution_count": 47,
   "metadata": {
    "slideshow": {
     "slide_type": "fragment"
    }
   },
   "outputs": [
    {
     "data": {
      "text/plain": [
       "Win     6\n",
       "Draw    0\n",
       "Lose    6\n",
       "dtype: int64"
      ]
     },
     "execution_count": 47,
     "metadata": {},
     "output_type": "execute_result"
    }
   ],
   "source": [
    "#試合数を求める\n",
    "sample_dateframe.sum()"
   ]
  },
  {
   "cell_type": "code",
   "execution_count": 48,
   "metadata": {
    "slideshow": {
     "slide_type": "fragment"
    }
   },
   "outputs": [
    {
     "data": {
      "text/plain": [
       "Team\n",
       "Japan        3\n",
       "Iraq         3\n",
       "Jordan       3\n",
       "Palestine    3\n",
       "dtype: int64"
      ]
     },
     "execution_count": 48,
     "metadata": {},
     "output_type": "execute_result"
    }
   ],
   "source": [
    "#↓は行に対するの演算\n",
    "sample_dateframe.sum(axis=1)"
   ]
  },
  {
   "cell_type": "code",
   "execution_count": 49,
   "metadata": {
    "slideshow": {
     "slide_type": "fragment"
    }
   },
   "outputs": [
    {
     "name": "stdout",
     "output_type": "stream",
     "text": [
      "Team\n",
      "Japan    3\n",
      "Iraq     3\n",
      "dtype: int64\n"
     ]
    }
   ],
   "source": [
    "#今までのテクニックの組み合わせも使える\n",
    "#↓は１勝以上したチームの試合回数合計\n",
    "print(sample_dateframe[sample_dateframe.Win > 1].sum(axis=1))"
   ]
  },
  {
   "cell_type": "code",
   "execution_count": 50,
   "metadata": {
    "slideshow": {
     "slide_type": "fragment"
    }
   },
   "outputs": [],
   "source": [
    "#jsonファイルに記録しよう！\n",
    "sample_dateframe.to_json('sample.json', orient='index')"
   ]
  },
  {
   "cell_type": "markdown",
   "metadata": {
    "slideshow": {
     "slide_type": "fragment"
    }
   },
   "source": [
    "<img src=\"./sample_json_file.png\">"
   ]
  },
  {
   "cell_type": "markdown",
   "metadata": {
    "collapsed": true,
    "slideshow": {
     "slide_type": "slide"
    }
   },
   "source": [
    "# データの加工や集計：pandas\n",
    "## クロス集計"
   ]
  },
  {
   "cell_type": "code",
   "execution_count": 51,
   "metadata": {
    "slideshow": {
     "slide_type": "fragment"
    }
   },
   "outputs": [],
   "source": [
    "# データの読み込み\n",
    "sample2_dateframe = pd.read_csv(\"./sample2.csv\")"
   ]
  },
  {
   "cell_type": "code",
   "execution_count": 53,
   "metadata": {
    "slideshow": {
     "slide_type": "fragment"
    }
   },
   "outputs": [
    {
     "data": {
      "text/html": [
       "<style  type=\"text/css\" >\n",
       "    #T_2760738a_9ca3_11e8_9c73_8c8590a48775row0_col0 {\n",
       "            font-size:  50px;\n",
       "        }    #T_2760738a_9ca3_11e8_9c73_8c8590a48775row0_col1 {\n",
       "            font-size:  50px;\n",
       "        }    #T_2760738a_9ca3_11e8_9c73_8c8590a48775row0_col2 {\n",
       "            font-size:  50px;\n",
       "        }    #T_2760738a_9ca3_11e8_9c73_8c8590a48775row1_col0 {\n",
       "            font-size:  50px;\n",
       "        }    #T_2760738a_9ca3_11e8_9c73_8c8590a48775row1_col1 {\n",
       "            font-size:  50px;\n",
       "        }    #T_2760738a_9ca3_11e8_9c73_8c8590a48775row1_col2 {\n",
       "            font-size:  50px;\n",
       "        }    #T_2760738a_9ca3_11e8_9c73_8c8590a48775row2_col0 {\n",
       "            font-size:  50px;\n",
       "        }    #T_2760738a_9ca3_11e8_9c73_8c8590a48775row2_col1 {\n",
       "            font-size:  50px;\n",
       "        }    #T_2760738a_9ca3_11e8_9c73_8c8590a48775row2_col2 {\n",
       "            font-size:  50px;\n",
       "        }    #T_2760738a_9ca3_11e8_9c73_8c8590a48775row3_col0 {\n",
       "            font-size:  50px;\n",
       "        }    #T_2760738a_9ca3_11e8_9c73_8c8590a48775row3_col1 {\n",
       "            font-size:  50px;\n",
       "        }    #T_2760738a_9ca3_11e8_9c73_8c8590a48775row3_col2 {\n",
       "            font-size:  50px;\n",
       "        }    #T_2760738a_9ca3_11e8_9c73_8c8590a48775row4_col0 {\n",
       "            font-size:  50px;\n",
       "        }    #T_2760738a_9ca3_11e8_9c73_8c8590a48775row4_col1 {\n",
       "            font-size:  50px;\n",
       "        }    #T_2760738a_9ca3_11e8_9c73_8c8590a48775row4_col2 {\n",
       "            font-size:  50px;\n",
       "        }    #T_2760738a_9ca3_11e8_9c73_8c8590a48775row5_col0 {\n",
       "            font-size:  50px;\n",
       "        }    #T_2760738a_9ca3_11e8_9c73_8c8590a48775row5_col1 {\n",
       "            font-size:  50px;\n",
       "        }    #T_2760738a_9ca3_11e8_9c73_8c8590a48775row5_col2 {\n",
       "            font-size:  50px;\n",
       "        }</style>  \n",
       "<table id=\"T_2760738a_9ca3_11e8_9c73_8c8590a48775\" > \n",
       "<thead>    <tr> \n",
       "        <th class=\"blank level0\" ></th> \n",
       "        <th class=\"col_heading level0 col0\" >date</th> \n",
       "        <th class=\"col_heading level0 col1\" >item</th> \n",
       "        <th class=\"col_heading level0 col2\" >price</th> \n",
       "    </tr></thead> \n",
       "<tbody>    <tr> \n",
       "        <th id=\"T_2760738a_9ca3_11e8_9c73_8c8590a48775level0_row0\" class=\"row_heading level0 row0\" >0</th> \n",
       "        <td id=\"T_2760738a_9ca3_11e8_9c73_8c8590a48775row0_col0\" class=\"data row0 col0\" >2015-01-01</td> \n",
       "        <td id=\"T_2760738a_9ca3_11e8_9c73_8c8590a48775row0_col1\" class=\"data row0 col1\" >apple</td> \n",
       "        <td id=\"T_2760738a_9ca3_11e8_9c73_8c8590a48775row0_col2\" class=\"data row0 col2\" >300</td> \n",
       "    </tr>    <tr> \n",
       "        <th id=\"T_2760738a_9ca3_11e8_9c73_8c8590a48775level0_row1\" class=\"row_heading level0 row1\" >1</th> \n",
       "        <td id=\"T_2760738a_9ca3_11e8_9c73_8c8590a48775row1_col0\" class=\"data row1 col0\" >2015-01-01</td> \n",
       "        <td id=\"T_2760738a_9ca3_11e8_9c73_8c8590a48775row1_col1\" class=\"data row1 col1\" >apple</td> \n",
       "        <td id=\"T_2760738a_9ca3_11e8_9c73_8c8590a48775row1_col2\" class=\"data row1 col2\" >300</td> \n",
       "    </tr>    <tr> \n",
       "        <th id=\"T_2760738a_9ca3_11e8_9c73_8c8590a48775level0_row2\" class=\"row_heading level0 row2\" >2</th> \n",
       "        <td id=\"T_2760738a_9ca3_11e8_9c73_8c8590a48775row2_col0\" class=\"data row2 col0\" >2015-01-01</td> \n",
       "        <td id=\"T_2760738a_9ca3_11e8_9c73_8c8590a48775row2_col1\" class=\"data row2 col1\" >orange</td> \n",
       "        <td id=\"T_2760738a_9ca3_11e8_9c73_8c8590a48775row2_col2\" class=\"data row2 col2\" >250</td> \n",
       "    </tr>    <tr> \n",
       "        <th id=\"T_2760738a_9ca3_11e8_9c73_8c8590a48775level0_row3\" class=\"row_heading level0 row3\" >3</th> \n",
       "        <td id=\"T_2760738a_9ca3_11e8_9c73_8c8590a48775row3_col0\" class=\"data row3 col0\" >2015-01-02</td> \n",
       "        <td id=\"T_2760738a_9ca3_11e8_9c73_8c8590a48775row3_col1\" class=\"data row3 col1\" >orange</td> \n",
       "        <td id=\"T_2760738a_9ca3_11e8_9c73_8c8590a48775row3_col2\" class=\"data row3 col2\" >240</td> \n",
       "    </tr>    <tr> \n",
       "        <th id=\"T_2760738a_9ca3_11e8_9c73_8c8590a48775level0_row4\" class=\"row_heading level0 row4\" >4</th> \n",
       "        <td id=\"T_2760738a_9ca3_11e8_9c73_8c8590a48775row4_col0\" class=\"data row4 col0\" >2015-01-02</td> \n",
       "        <td id=\"T_2760738a_9ca3_11e8_9c73_8c8590a48775row4_col1\" class=\"data row4 col1\" >orange</td> \n",
       "        <td id=\"T_2760738a_9ca3_11e8_9c73_8c8590a48775row4_col2\" class=\"data row4 col2\" >240</td> \n",
       "    </tr>    <tr> \n",
       "        <th id=\"T_2760738a_9ca3_11e8_9c73_8c8590a48775level0_row5\" class=\"row_heading level0 row5\" >5</th> \n",
       "        <td id=\"T_2760738a_9ca3_11e8_9c73_8c8590a48775row5_col0\" class=\"data row5 col0\" >2015-01-02</td> \n",
       "        <td id=\"T_2760738a_9ca3_11e8_9c73_8c8590a48775row5_col1\" class=\"data row5 col1\" >banana</td> \n",
       "        <td id=\"T_2760738a_9ca3_11e8_9c73_8c8590a48775row5_col2\" class=\"data row5 col2\" >260</td> \n",
       "    </tr></tbody> \n",
       "</table> "
      ],
      "text/plain": [
       "<pandas.io.formats.style.Styler at 0x10b514fd0>"
      ]
     },
     "execution_count": 53,
     "metadata": {},
     "output_type": "execute_result"
    }
   ],
   "source": [
    "sample2_dateframe.style.set_properties(**{'font-size': '{0}px'.format(50)})"
   ]
  },
  {
   "cell_type": "markdown",
   "metadata": {
    "slideshow": {
     "slide_type": "slide"
    }
   },
   "source": [
    "# データの加工や集計：pandas\n",
    "## クロス集計"
   ]
  },
  {
   "cell_type": "code",
   "execution_count": 54,
   "metadata": {
    "slideshow": {
     "slide_type": "fragment"
    }
   },
   "outputs": [
    {
     "data": {
      "text/html": [
       "<style  type=\"text/css\" >\n",
       "    #T_28a38c14_9ca3_11e8_b91a_8c8590a48775row0_col0 {\n",
       "            font-size:  50px;\n",
       "        }    #T_28a38c14_9ca3_11e8_b91a_8c8590a48775row0_col1 {\n",
       "            font-size:  50px;\n",
       "        }    #T_28a38c14_9ca3_11e8_b91a_8c8590a48775row0_col2 {\n",
       "            font-size:  50px;\n",
       "        }    #T_28a38c14_9ca3_11e8_b91a_8c8590a48775row1_col0 {\n",
       "            font-size:  50px;\n",
       "        }    #T_28a38c14_9ca3_11e8_b91a_8c8590a48775row1_col1 {\n",
       "            font-size:  50px;\n",
       "        }    #T_28a38c14_9ca3_11e8_b91a_8c8590a48775row1_col2 {\n",
       "            font-size:  50px;\n",
       "        }</style>  \n",
       "<table id=\"T_28a38c14_9ca3_11e8_b91a_8c8590a48775\" > \n",
       "<thead>    <tr> \n",
       "        <th class=\"blank level0\" ></th> \n",
       "        <th class=\"col_heading level0 col0\" colspan=3>price</th> \n",
       "    </tr>    <tr> \n",
       "        <th class=\"index_name level1\" >item</th> \n",
       "        <th class=\"col_heading level1 col0\" >apple</th> \n",
       "        <th class=\"col_heading level1 col1\" >banana</th> \n",
       "        <th class=\"col_heading level1 col2\" >orange</th> \n",
       "    </tr>    <tr> \n",
       "        <th class=\"index_name level0\" >date</th> \n",
       "        <th class=\"blank\" ></th> \n",
       "        <th class=\"blank\" ></th> \n",
       "        <th class=\"blank\" ></th> \n",
       "    </tr></thead> \n",
       "<tbody>    <tr> \n",
       "        <th id=\"T_28a38c14_9ca3_11e8_b91a_8c8590a48775level0_row0\" class=\"row_heading level0 row0\" >2015-01-01</th> \n",
       "        <td id=\"T_28a38c14_9ca3_11e8_b91a_8c8590a48775row0_col0\" class=\"data row0 col0\" >600</td> \n",
       "        <td id=\"T_28a38c14_9ca3_11e8_b91a_8c8590a48775row0_col1\" class=\"data row0 col1\" >nan</td> \n",
       "        <td id=\"T_28a38c14_9ca3_11e8_b91a_8c8590a48775row0_col2\" class=\"data row0 col2\" >250</td> \n",
       "    </tr>    <tr> \n",
       "        <th id=\"T_28a38c14_9ca3_11e8_b91a_8c8590a48775level0_row1\" class=\"row_heading level0 row1\" >2015-01-02</th> \n",
       "        <td id=\"T_28a38c14_9ca3_11e8_b91a_8c8590a48775row1_col0\" class=\"data row1 col0\" >nan</td> \n",
       "        <td id=\"T_28a38c14_9ca3_11e8_b91a_8c8590a48775row1_col1\" class=\"data row1 col1\" >260</td> \n",
       "        <td id=\"T_28a38c14_9ca3_11e8_b91a_8c8590a48775row1_col2\" class=\"data row1 col2\" >480</td> \n",
       "    </tr></tbody> \n",
       "</table> "
      ],
      "text/plain": [
       "<pandas.io.formats.style.Styler at 0x10b3ec6a0>"
      ]
     },
     "execution_count": 54,
     "metadata": {},
     "output_type": "execute_result"
    }
   ],
   "source": [
    "#価格の合計を出したい時\n",
    "sample2_dateframe.pivot_table(index='date', columns=\"item\", aggfunc=\"sum\").style.set_properties(**{'font-size': '{0}px'.format(50)})"
   ]
  },
  {
   "cell_type": "markdown",
   "metadata": {
    "slideshow": {
     "slide_type": "slide"
    }
   },
   "source": [
    "# データの加工や集計：pandas\n",
    "## クロス集計"
   ]
  },
  {
   "cell_type": "code",
   "execution_count": 55,
   "metadata": {
    "slideshow": {
     "slide_type": "fragment"
    }
   },
   "outputs": [
    {
     "data": {
      "text/html": [
       "<style  type=\"text/css\" >\n",
       "    #T_29db56b6_9ca3_11e8_997e_8c8590a48775row0_col0 {\n",
       "            font-size:  50px;\n",
       "        }    #T_29db56b6_9ca3_11e8_997e_8c8590a48775row0_col1 {\n",
       "            font-size:  50px;\n",
       "        }    #T_29db56b6_9ca3_11e8_997e_8c8590a48775row0_col2 {\n",
       "            font-size:  50px;\n",
       "        }    #T_29db56b6_9ca3_11e8_997e_8c8590a48775row1_col0 {\n",
       "            font-size:  50px;\n",
       "        }    #T_29db56b6_9ca3_11e8_997e_8c8590a48775row1_col1 {\n",
       "            font-size:  50px;\n",
       "        }    #T_29db56b6_9ca3_11e8_997e_8c8590a48775row1_col2 {\n",
       "            font-size:  50px;\n",
       "        }</style>  \n",
       "<table id=\"T_29db56b6_9ca3_11e8_997e_8c8590a48775\" > \n",
       "<thead>    <tr> \n",
       "        <th class=\"blank level0\" ></th> \n",
       "        <th class=\"col_heading level0 col0\" colspan=3>price</th> \n",
       "    </tr>    <tr> \n",
       "        <th class=\"index_name level1\" >item</th> \n",
       "        <th class=\"col_heading level1 col0\" >apple</th> \n",
       "        <th class=\"col_heading level1 col1\" >banana</th> \n",
       "        <th class=\"col_heading level1 col2\" >orange</th> \n",
       "    </tr>    <tr> \n",
       "        <th class=\"index_name level0\" >date</th> \n",
       "        <th class=\"blank\" ></th> \n",
       "        <th class=\"blank\" ></th> \n",
       "        <th class=\"blank\" ></th> \n",
       "    </tr></thead> \n",
       "<tbody>    <tr> \n",
       "        <th id=\"T_29db56b6_9ca3_11e8_997e_8c8590a48775level0_row0\" class=\"row_heading level0 row0\" >2015-01-01</th> \n",
       "        <td id=\"T_29db56b6_9ca3_11e8_997e_8c8590a48775row0_col0\" class=\"data row0 col0\" >300</td> \n",
       "        <td id=\"T_29db56b6_9ca3_11e8_997e_8c8590a48775row0_col1\" class=\"data row0 col1\" >nan</td> \n",
       "        <td id=\"T_29db56b6_9ca3_11e8_997e_8c8590a48775row0_col2\" class=\"data row0 col2\" >250</td> \n",
       "    </tr>    <tr> \n",
       "        <th id=\"T_29db56b6_9ca3_11e8_997e_8c8590a48775level0_row1\" class=\"row_heading level0 row1\" >2015-01-02</th> \n",
       "        <td id=\"T_29db56b6_9ca3_11e8_997e_8c8590a48775row1_col0\" class=\"data row1 col0\" >nan</td> \n",
       "        <td id=\"T_29db56b6_9ca3_11e8_997e_8c8590a48775row1_col1\" class=\"data row1 col1\" >260</td> \n",
       "        <td id=\"T_29db56b6_9ca3_11e8_997e_8c8590a48775row1_col2\" class=\"data row1 col2\" >240</td> \n",
       "    </tr></tbody> \n",
       "</table> "
      ],
      "text/plain": [
       "<pandas.io.formats.style.Styler at 0x10b55fbe0>"
      ]
     },
     "execution_count": 55,
     "metadata": {},
     "output_type": "execute_result"
    }
   ],
   "source": [
    " #価格の平均を出したい時\n",
    "sample2_dateframe.pivot_table(index='date', columns=\"item\", aggfunc=\"mean\").style.set_properties(**{'font-size': '{0}px'.format(50)})"
   ]
  },
  {
   "cell_type": "markdown",
   "metadata": {
    "slideshow": {
     "slide_type": "slide"
    }
   },
   "source": [
    "# データの加工や集計：pandas\n",
    "## クロス集計"
   ]
  },
  {
   "cell_type": "code",
   "execution_count": 56,
   "metadata": {
    "slideshow": {
     "slide_type": "fragment"
    }
   },
   "outputs": [
    {
     "data": {
      "text/html": [
       "<style  type=\"text/css\" >\n",
       "    #T_3c173b4c_9ca3_11e8_9f23_8c8590a48775row0_col0 {\n",
       "            font-size:  50px;\n",
       "        }    #T_3c173b4c_9ca3_11e8_9f23_8c8590a48775row0_col1 {\n",
       "            font-size:  50px;\n",
       "        }    #T_3c173b4c_9ca3_11e8_9f23_8c8590a48775row0_col2 {\n",
       "            font-size:  50px;\n",
       "        }    #T_3c173b4c_9ca3_11e8_9f23_8c8590a48775row1_col0 {\n",
       "            font-size:  50px;\n",
       "        }    #T_3c173b4c_9ca3_11e8_9f23_8c8590a48775row1_col1 {\n",
       "            font-size:  50px;\n",
       "        }    #T_3c173b4c_9ca3_11e8_9f23_8c8590a48775row1_col2 {\n",
       "            font-size:  50px;\n",
       "        }</style>  \n",
       "<table id=\"T_3c173b4c_9ca3_11e8_9f23_8c8590a48775\" > \n",
       "<thead>    <tr> \n",
       "        <th class=\"blank level0\" ></th> \n",
       "        <th class=\"col_heading level0 col0\" colspan=3>price</th> \n",
       "    </tr>    <tr> \n",
       "        <th class=\"index_name level1\" >item</th> \n",
       "        <th class=\"col_heading level1 col0\" >apple</th> \n",
       "        <th class=\"col_heading level1 col1\" >banana</th> \n",
       "        <th class=\"col_heading level1 col2\" >orange</th> \n",
       "    </tr>    <tr> \n",
       "        <th class=\"index_name level0\" >date</th> \n",
       "        <th class=\"blank\" ></th> \n",
       "        <th class=\"blank\" ></th> \n",
       "        <th class=\"blank\" ></th> \n",
       "    </tr></thead> \n",
       "<tbody>    <tr> \n",
       "        <th id=\"T_3c173b4c_9ca3_11e8_9f23_8c8590a48775level0_row0\" class=\"row_heading level0 row0\" >2015-01-01</th> \n",
       "        <td id=\"T_3c173b4c_9ca3_11e8_9f23_8c8590a48775row0_col0\" class=\"data row0 col0\" >2</td> \n",
       "        <td id=\"T_3c173b4c_9ca3_11e8_9f23_8c8590a48775row0_col1\" class=\"data row0 col1\" >nan</td> \n",
       "        <td id=\"T_3c173b4c_9ca3_11e8_9f23_8c8590a48775row0_col2\" class=\"data row0 col2\" >1</td> \n",
       "    </tr>    <tr> \n",
       "        <th id=\"T_3c173b4c_9ca3_11e8_9f23_8c8590a48775level0_row1\" class=\"row_heading level0 row1\" >2015-01-02</th> \n",
       "        <td id=\"T_3c173b4c_9ca3_11e8_9f23_8c8590a48775row1_col0\" class=\"data row1 col0\" >nan</td> \n",
       "        <td id=\"T_3c173b4c_9ca3_11e8_9f23_8c8590a48775row1_col1\" class=\"data row1 col1\" >1</td> \n",
       "        <td id=\"T_3c173b4c_9ca3_11e8_9f23_8c8590a48775row1_col2\" class=\"data row1 col2\" >2</td> \n",
       "    </tr></tbody> \n",
       "</table> "
      ],
      "text/plain": [
       "<pandas.io.formats.style.Styler at 0x10b074e80>"
      ]
     },
     "execution_count": 56,
     "metadata": {},
     "output_type": "execute_result"
    }
   ],
   "source": [
    "#データの出現回数を計測したい時\n",
    "sample2_dateframe.pivot_table(index='date', columns=\"item\", aggfunc='count').style.set_properties(**{'font-size': '{0}px'.format(50)})"
   ]
  }
 ],
 "metadata": {
  "celltoolbar": "Slideshow",
  "kernelspec": {
   "display_name": "Python 3",
   "language": "python",
   "name": "python3"
  },
  "language_info": {
   "codemirror_mode": {
    "name": "ipython",
    "version": 3
   },
   "file_extension": ".py",
   "mimetype": "text/x-python",
   "name": "python",
   "nbconvert_exporter": "python",
   "pygments_lexer": "ipython3",
   "version": "3.6.5"
  }
 },
 "nbformat": 4,
 "nbformat_minor": 1
}
