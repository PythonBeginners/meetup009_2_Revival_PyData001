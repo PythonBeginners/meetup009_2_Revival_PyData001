{
 "cells": [
  {
   "cell_type": "code",
   "execution_count": null,
   "metadata": {
    "collapsed": false
   },
   "outputs": [],
   "source": [
    "#マジックファンクション（matplotlibの出力をページ内で行う）\n",
    "#環境によっては使わなくても動作する\n",
    "%matplotlib inline"
   ]
  },
  {
   "cell_type": "code",
   "execution_count": null,
   "metadata": {
    "collapsed": false
   },
   "outputs": [],
   "source": [
    "#matplotlibパッケージからpyplotを読み込む\n",
    "from matplotlib import pyplot"
   ]
  },
  {
   "cell_type": "code",
   "execution_count": null,
   "metadata": {
    "collapsed": false
   },
   "outputs": [],
   "source": [
    "#配列を定義する。\n",
    "x = [4,3,4,6,7,9,10]\n",
    "y = [2,0,2,3,2]\n",
    "z = [5,4,5,7,8]\n",
    "print(x)"
   ]
  },
  {
   "cell_type": "code",
   "execution_count": null,
   "metadata": {
    "collapsed": false
   },
   "outputs": [],
   "source": [
    "#グラフを出力\n",
    "pyplot.plot(x)\n",
    "pyplot.plot(y)\n",
    "#↓が無いと、環境によってはグラフが出力されない\n",
    "pyplot.show()"
   ]
  },
  {
   "cell_type": "code",
   "execution_count": null,
   "metadata": {
    "collapsed": false
   },
   "outputs": [],
   "source": [
    "#色指定\n",
    "#レッド\n",
    "pyplot.plot(x,\"r\")\n",
    "#マゼンタ\n",
    "pyplot.plot(y,\"m\")\n",
    "#k・・・黒？\n",
    "pyplot.plot(z,\"k\")\n",
    "pyplot.show()"
   ]
  },
  {
   "cell_type": "code",
   "execution_count": null,
   "metadata": {
    "collapsed": false
   },
   "outputs": [],
   "source": [
    "#形状指定\n",
    "pyplot.plot(x,\"X\")\n",
    "#色と形状同時指定\n",
    "pyplot.plot(y,\"bo\")\n",
    "pyplot.show()"
   ]
  },
  {
   "cell_type": "code",
   "execution_count": null,
   "metadata": {
    "collapsed": true
   },
   "outputs": [],
   "source": []
  }
 ],
 "metadata": {
  "kernelspec": {
   "display_name": "Python 3",
   "language": "python",
   "name": "python3"
  },
  "language_info": {
   "codemirror_mode": {
    "name": "ipython",
    "version": 3
   },
   "file_extension": ".py",
   "mimetype": "text/x-python",
   "name": "python",
   "nbconvert_exporter": "python",
   "pygments_lexer": "ipython3",
   "version": "3.6.0"
  }
 },
 "nbformat": 4,
 "nbformat_minor": 0
}
